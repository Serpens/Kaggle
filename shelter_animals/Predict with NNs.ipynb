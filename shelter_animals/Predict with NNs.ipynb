{
 "cells": [
  {
   "cell_type": "code",
   "execution_count": 21,
   "metadata": {
    "collapsed": false
   },
   "outputs": [],
   "source": [
    "import numpy as np\n",
    "import pandas\n",
    "import sklearn\n",
    "import sklearn.cross_validation\n",
    "from keras.models import Sequential\n",
    "from keras.layers import Dense, Activation, Dropout, Reshape, Flatten, Convolution2D, Convolution1D, AveragePooling2D, MaxPooling2D\n",
    "from keras.utils import np_utils\n",
    "from keras.wrappers.scikit_learn import KerasClassifier"
   ]
  },
  {
   "cell_type": "code",
   "execution_count": 6,
   "metadata": {
    "collapsed": true
   },
   "outputs": [],
   "source": [
    "import get_features"
   ]
  },
  {
   "cell_type": "code",
   "execution_count": 9,
   "metadata": {
    "collapsed": true
   },
   "outputs": [],
   "source": [
    "data = pandas.read_csv('train.csv')"
   ]
  },
  {
   "cell_type": "code",
   "execution_count": 10,
   "metadata": {
    "collapsed": true
   },
   "outputs": [],
   "source": [
    "num_data = get_features.get_num_features(data)"
   ]
  },
  {
   "cell_type": "code",
   "execution_count": 14,
   "metadata": {
    "collapsed": false
   },
   "outputs": [],
   "source": [
    "outcomes = data['OutcomeType'].apply(get_features.enum_outcome)"
   ]
  },
  {
   "cell_type": "code",
   "execution_count": 44,
   "metadata": {
    "collapsed": false
   },
   "outputs": [],
   "source": [
    "def create_keras_model():\n",
    "    model = Sequential()\n",
    "    model.add(Dense(31, input_dim=31))\n",
    "    model.add(Activation('relu'))\n",
    "    model.add(Dropout(0.1))\n",
    "    model.add(Dense(31, input_dim=31))\n",
    "    model.add(Activation('relu'))\n",
    "    model.add(Dropout(0.1))\n",
    "    model.add(Dense(5))\n",
    "    model.add(Activation('softmax'))\n",
    "    model.compile(loss='sparse_categorical_crossentropy', optimizer='adam', metrics=[\"accuracy\"])\n",
    "    return model"
   ]
  },
  {
   "cell_type": "code",
   "execution_count": 25,
   "metadata": {
    "collapsed": false
   },
   "outputs": [],
   "source": [
    "label_train, label_test, feat_train, feat_test = sklearn.cross_validation.train_test_split(outcomes, num_data, test_size=0.2, random_state=42)"
   ]
  },
  {
   "cell_type": "code",
   "execution_count": 28,
   "metadata": {
    "collapsed": false
   },
   "outputs": [
    {
     "data": {
      "text/plain": [
       "((21383,), (21383, 31))"
      ]
     },
     "execution_count": 28,
     "metadata": {},
     "output_type": "execute_result"
    }
   ],
   "source": [
    "label_train.shape, feat_train.shape"
   ]
  },
  {
   "cell_type": "code",
   "execution_count": 45,
   "metadata": {
    "collapsed": false
   },
   "outputs": [
    {
     "name": "stdout",
     "output_type": "stream",
     "text": [
      "Epoch 1/10\n",
      "21383/21383 [==============================] - 0s - loss: nan - acc: 0.0089     \n",
      "Epoch 2/10\n",
      "21383/21383 [==============================] - 0s - loss: nan - acc: 0.0077     \n",
      "Epoch 3/10\n",
      "21383/21383 [==============================] - 0s - loss: nan - acc: 0.0077     \n",
      "Epoch 4/10\n",
      "21383/21383 [==============================] - 0s - loss: nan - acc: 0.0077     \n",
      "Epoch 5/10\n",
      "21383/21383 [==============================] - 0s - loss: nan - acc: 0.0077     \n",
      "Epoch 6/10\n",
      "21383/21383 [==============================] - 0s - loss: nan - acc: 0.0077     \n",
      "Epoch 7/10\n",
      "21383/21383 [==============================] - 0s - loss: nan - acc: 0.0077     \n",
      "Epoch 8/10\n",
      "21383/21383 [==============================] - 0s - loss: nan - acc: 0.0077     \n",
      "Epoch 9/10\n",
      "21383/21383 [==============================] - 0s - loss: nan - acc: 0.0077     \n",
      "Epoch 10/10\n",
      "21383/21383 [==============================] - 0s - loss: nan - acc: 0.0077     \n",
      "5346/5346 [==============================] - 0s     \n"
     ]
    },
    {
     "data": {
      "text/plain": [
       "[nan, 0.0061728395061728392]"
      ]
     },
     "execution_count": 45,
     "metadata": {},
     "output_type": "execute_result"
    }
   ],
   "source": [
    "nn_model = create_keras_model()\n",
    "nn_model.fit(feat_train, label_train, nb_epoch=10, batch_size=128)\n",
    "nn_model.evaluate(feat_test, label_test)"
   ]
  },
  {
   "cell_type": "code",
   "execution_count": null,
   "metadata": {
    "collapsed": true
   },
   "outputs": [],
   "source": []
  },
  {
   "cell_type": "code",
   "execution_count": null,
   "metadata": {
    "collapsed": true
   },
   "outputs": [],
   "source": []
  }
 ],
 "metadata": {
  "anaconda-cloud": {},
  "kernelspec": {
   "display_name": "Python [Root]",
   "language": "python",
   "name": "Python [Root]"
  },
  "language_info": {
   "codemirror_mode": {
    "name": "ipython",
    "version": 3
   },
   "file_extension": ".py",
   "mimetype": "text/x-python",
   "name": "python",
   "nbconvert_exporter": "python",
   "pygments_lexer": "ipython3",
   "version": "3.5.2"
  }
 },
 "nbformat": 4,
 "nbformat_minor": 0
}
