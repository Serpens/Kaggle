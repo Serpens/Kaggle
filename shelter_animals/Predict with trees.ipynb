{
 "cells": [
  {
   "cell_type": "code",
   "execution_count": 1,
   "metadata": {
    "collapsed": true
   },
   "outputs": [],
   "source": [
    "import numpy as np\n",
    "import pandas\n",
    "import sklearn\n",
    "from sklearn.ensemble import RandomForestClassifier"
   ]
  },
  {
   "cell_type": "code",
   "execution_count": 2,
   "metadata": {
    "collapsed": true
   },
   "outputs": [],
   "source": [
    "data = pandas.read_csv('train.csv')"
   ]
  },
  {
   "cell_type": "code",
   "execution_count": 3,
   "metadata": {
    "collapsed": true
   },
   "outputs": [],
   "source": [
    "def convert_age_to_days(age_string):\n",
    "    if type(age_string) != type(''):\n",
    "        return age_string\n",
    "    num, unit = age_string.split()\n",
    "    if unit[0] == 'd':   # I don't expect it, but just in case\n",
    "        return int(num)\n",
    "    if unit[0] == 'w':\n",
    "        return int(num) * 7\n",
    "    if unit[0] == 'm':\n",
    "        return int(num) * 30\n",
    "    if unit[0] == 'y':\n",
    "        return int(num) * 365"
   ]
  },
  {
   "cell_type": "code",
   "execution_count": 4,
   "metadata": {
    "collapsed": true
   },
   "outputs": [],
   "source": [
    "def select_columns(data):\n",
    "    result = data.copy()\n",
    "    result = pandas.DataFrame(result, columns=('Cat', 'Sex', 'Sterilisation', 'AgeInDays', 'Mix', 'HasName', 'Black1', 'Black2'))\n",
    "    return result.values"
   ]
  },
  {
   "cell_type": "code",
   "execution_count": null,
   "metadata": {
    "collapsed": true
   },
   "outputs": [],
   "source": []
  }
 ],
 "metadata": {
  "kernelspec": {
   "display_name": "Python 3",
   "language": "python",
   "name": "python3"
  },
  "language_info": {
   "codemirror_mode": {
    "name": "ipython",
    "version": 3
   },
   "file_extension": ".py",
   "mimetype": "text/x-python",
   "name": "python",
   "nbconvert_exporter": "python",
   "pygments_lexer": "ipython3",
   "version": "3.4.4"
  }
 },
 "nbformat": 4,
 "nbformat_minor": 0
}
