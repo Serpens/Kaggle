{
 "cells": [
  {
   "cell_type": "code",
   "execution_count": 15,
   "metadata": {
    "collapsed": false
   },
   "outputs": [],
   "source": [
    "import numpy as np\n",
    "import pandas\n",
    "import sklearn\n",
    "from sklearn.ensemble import RandomForestClassifier\n",
    "from sklearn.tree import DecisionTreeClassifier\n",
    "from sklearn.grid_search import RandomizedSearchCV"
   ]
  },
  {
   "cell_type": "code",
   "execution_count": 2,
   "metadata": {
    "collapsed": true
   },
   "outputs": [],
   "source": [
    "data = pandas.read_csv('train.csv')"
   ]
  },
  {
   "cell_type": "code",
   "execution_count": 3,
   "metadata": {
    "collapsed": true
   },
   "outputs": [],
   "source": [
    "def convert_age_to_days(age_string):\n",
    "    if type(age_string) != type(''):\n",
    "        return age_string\n",
    "    num, unit = age_string.split()\n",
    "    if unit[0] == 'd':   # I don't expect it, but just in case\n",
    "        return int(num)\n",
    "    if unit[0] == 'w':\n",
    "        return int(num) * 7\n",
    "    if unit[0] == 'm':\n",
    "        return int(num) * 30\n",
    "    if unit[0] == 'y':\n",
    "        return int(num) * 365"
   ]
  },
  {
   "cell_type": "code",
   "execution_count": 4,
   "metadata": {
    "collapsed": true
   },
   "outputs": [],
   "source": [
    "def add_more_columns(data):\n",
    "    data['Cat'] = data['AnimalType'].apply(lambda x: x.lower() == 'cat')\n",
    "    data['Sex'] = data['SexuponOutcome'].apply(lambda x: x.split()[1] if (x != 'Unknown' and type(x) == type('')) else None)\n",
    "    data['Sex'] = data['Sex'].apply(lambda x: True if x == 'Female' else (False if x == 'Male' else None))\n",
    "    data['Sterilisation'] = data['SexuponOutcome'].apply(lambda x: not x.split()[0]=='Intact' if (x != 'Unknown' and type(x) == type('')) else None)\n",
    "    data['AgeInDays'] = data['AgeuponOutcome'].apply(convert_age_to_days)\n",
    "    # names\n",
    "    data['HasName'] = data['Name'].apply(lambda x: not pandas.isnull(x))\n",
    "    data['NameMax'] = data['Name'].apply(lambda x: 'max' in x.lower() if not pandas.isnull(x) else False)\n",
    "    data['NameBella'] = data['Name'].apply(lambda x: 'bella' in x.lower() if not pandas.isnull(x) else False)\n",
    "    # breeds\n",
    "    data['Mix'] = data['Breed'].apply(lambda x: x.endswith('Mix'))\n",
    "    data['Domestic'] = data['Breed'].apply(lambda x: 'domestic' in x.lower())\n",
    "    data['Shorthair'] = data['Breed'].apply(lambda x: 'shorthair' in x.lower())\n",
    "    data['Longhair'] = data['Breed'].apply(lambda x: 'longhair' in x.lower())\n",
    "    data['Siamese'] = data['Breed'].apply(lambda x: 'siamese' in x.lower())\n",
    "    data['PitBull'] = data['Breed'].apply(lambda x: 'pit bull' in x.lower())\n",
    "    data['Australian'] = data['Breed'].apply(lambda x: 'australian' in x.lower())\n",
    "    data['Retriever'] = data['Breed'].apply(lambda x: 'retriever' in x.lower())\n",
    "    data['Shepherd'] = data['Breed'].apply(lambda x: 'shepherd' in x.lower())\n",
    "    data['Terrier'] = data['Breed'].apply(lambda x: 'terrier' in x.lower())\n",
    "    data['Chihuahua'] = data['Breed'].apply(lambda x: 'chihuahua' in x.lower())\n",
    "    # colors\n",
    "    data['Black1'] = data['Color'].apply(lambda x: 'black' in x.lower())\n",
    "    data['Black2'] = data['Color'].apply(lambda x: x.lower() == 'black')\n",
    "    data['White'] = data['Color'].apply(lambda x: 'white' in x.lower())\n",
    "    data['Tabby'] = data['Color'].apply(lambda x: 'tabby' in x.lower())\n",
    "    data['Tiger'] = data['Color'].apply(lambda x: 'tiger' in x.lower())\n",
    "    data['Blue'] = data['Color'].apply(lambda x: 'blue' in x.lower())\n",
    "    data['Brown'] = data['Color'].apply(lambda x: 'brown' in x.lower())\n",
    "    data['Orange'] = data['Color'].apply(lambda x: 'orange' in x.lower())\n",
    "    data['Red'] = data['Color'].apply(lambda x: 'red' in x.lower())\n",
    "    data['Yellow'] = data['Color'].apply(lambda x: 'yellow' in x.lower())\n",
    "    data['Tan'] = data['Color'].apply(lambda x: 'tan' in x.lower())\n",
    "    data['Tricolor'] = data['Color'].apply(lambda x: 'tricolor' in x.lower())\n",
    "    data['2colors'] = data['Color'].apply(lambda x: '/' in x)"
   ]
  },
  {
   "cell_type": "code",
   "execution_count": 5,
   "metadata": {
    "collapsed": true
   },
   "outputs": [],
   "source": [
    "def select_columns(data):\n",
    "    result = data.copy()\n",
    "    result = pandas.DataFrame(result, \n",
    "                              columns=('Cat', 'Sex', 'Sterilisation', 'AgeInDays', \n",
    "                                       'HasName', 'NameMax', 'NameBella',\n",
    "                                       'Mix', 'Domestic', 'Shorthair', 'Longhair', 'Siamese',\n",
    "                                       'PitBull', 'Australian', 'Retriever', 'Shepherd', 'Terrier', 'Chihuahua',\n",
    "                                       'Black1', 'Black2', 'White', 'Tabby', 'Tiger', 'Blue', 'Brown',\n",
    "                                       'Orange', 'Red', 'Yellow', 'Tan', 'Tricolor', '2colors'\n",
    "                                      )\n",
    "                             )\n",
    "    return result.values"
   ]
  },
  {
   "cell_type": "code",
   "execution_count": 6,
   "metadata": {
    "collapsed": false
   },
   "outputs": [],
   "source": [
    "add_more_columns(data)\n",
    "numeric_data = select_columns(data)"
   ]
  },
  {
   "cell_type": "code",
   "execution_count": 7,
   "metadata": {
    "collapsed": false
   },
   "outputs": [],
   "source": [
    "def enum_outcome(outcome):\n",
    "    if outcome == 'Return_to_owner':\n",
    "        return 4\n",
    "    if outcome == 'Adoption':\n",
    "        return 3\n",
    "    if outcome == 'Transfer':\n",
    "        return 2\n",
    "    if outcome == 'Euthanasia':\n",
    "        return 1\n",
    "    if outcome == 'Died':\n",
    "        return 0\n",
    "    raise Exception"
   ]
  },
  {
   "cell_type": "code",
   "execution_count": 8,
   "metadata": {
    "collapsed": false
   },
   "outputs": [
    {
     "data": {
      "text/plain": [
       "array([[False, False, True, ..., False, False, True],\n",
       "       [True, True, True, ..., False, False, False],\n",
       "       [False, False, True, ..., False, False, True],\n",
       "       ..., \n",
       "       [False, False, True, ..., True, False, True],\n",
       "       [True, False, False, ..., False, False, False],\n",
       "       [True, False, False, ..., False, False, True]], dtype=object)"
      ]
     },
     "execution_count": 8,
     "metadata": {},
     "output_type": "execute_result"
    }
   ],
   "source": [
    "pandas.DataFrame(numeric_data).fillna(0).values"
   ]
  },
  {
   "cell_type": "code",
   "execution_count": 9,
   "metadata": {
    "collapsed": false
   },
   "outputs": [],
   "source": [
    "labels = data['OutcomeType'].apply(enum_outcome)\n",
    "features = pandas.DataFrame(numeric_data).fillna(0).values"
   ]
  },
  {
   "cell_type": "code",
   "execution_count": 10,
   "metadata": {
    "collapsed": false
   },
   "outputs": [
    {
     "data": {
      "text/plain": [
       "(26729, 31)"
      ]
     },
     "execution_count": 10,
     "metadata": {},
     "output_type": "execute_result"
    }
   ],
   "source": [
    "features.shape"
   ]
  },
  {
   "cell_type": "code",
   "execution_count": null,
   "metadata": {
    "collapsed": false
   },
   "outputs": [],
   "source": []
  },
  {
   "cell_type": "code",
   "execution_count": null,
   "metadata": {
    "collapsed": false
   },
   "outputs": [],
   "source": []
  },
  {
   "cell_type": "code",
   "execution_count": 11,
   "metadata": {
    "collapsed": false
   },
   "outputs": [
    {
     "name": "stdout",
     "output_type": "stream",
     "text": [
      "{'criterion': 'gini', 'max_depth': 9, 'n_estimators': 1000}\n",
      "0.652995370154 0.637111859334\n"
     ]
    }
   ],
   "source": [
    "label_train, label_test, feat_train, feat_test = sklearn.cross_validation.train_test_split(labels, features, test_size=0.2, random_state=0)\n",
    "rf_classifier = RandomForestClassifier(random_state=42)\n",
    "params = {\n",
    "    'max_depth': list(range(2,10)) + [None],\n",
    "    'criterion': ['gini', 'entropy'],\n",
    "    'n_estimators': [10, 100, 500, 1000],\n",
    "}\n",
    "rscv = RandomizedSearchCV(rf_classifier, params)\n",
    "rscv.fit(feat_train, label_train)\n",
    "\n",
    "print(rscv.best_params_)\n",
    "print(rscv.score(feat_train, label_train), rscv.score(feat_test, label_test))"
   ]
  },
  {
   "cell_type": "code",
   "execution_count": 12,
   "metadata": {
    "collapsed": true
   },
   "outputs": [],
   "source": []
  },
  {
   "cell_type": "code",
   "execution_count": 14,
   "metadata": {
    "collapsed": false
   },
   "outputs": [
    {
     "name": "stdout",
     "output_type": "stream",
     "text": [
      "{'criterion': 'entropy', 'max_depth': 9, 'n_estimators': 2000}\n",
      "0.651779450966 0.636737747849\n",
      "{'criterion': 'entropy', 'max_depth': 8, 'n_estimators': 5000}\n",
      "0.639526726839 0.635241301908\n",
      "{'criterion': 'entropy', 'max_depth': 9, 'n_estimators': 1000}\n",
      "0.652013281579 0.635241301908\n",
      "{'criterion': 'gini', 'max_depth': 8, 'n_estimators': 500}\n",
      "0.646354580742 0.640852974186\n",
      "{'criterion': 'entropy', 'max_depth': 9, 'n_estimators': 2000}\n",
      "0.651592386475 0.634493078938\n",
      "{'criterion': 'entropy', 'max_depth': 9, 'n_estimators': 100}\n",
      "0.654959547304 0.632996632997\n",
      "{'criterion': 'gini', 'max_depth': 7, 'n_estimators': 1000}\n",
      "0.629518776598 0.634118967452\n",
      "{'criterion': 'entropy', 'max_depth': 9, 'n_estimators': 100}\n",
      "0.651218257494 0.639543583988\n",
      "{'criterion': 'gini', 'max_depth': 9, 'n_estimators': 100}\n",
      "0.653509797503 0.640478862701\n",
      "{'criterion': 'entropy', 'max_depth': 9, 'n_estimators': 2000}\n",
      "0.653322733012 0.636924803591\n",
      "{'criterion': 'entropy', 'max_depth': 8, 'n_estimators': 500}\n",
      "0.640274984801 0.636737747849\n",
      "{'criterion': 'gini', 'max_depth': 8, 'n_estimators': 500}\n",
      "0.645372492167 0.62962962963\n",
      "{'criterion': 'gini', 'max_depth': 7, 'n_estimators': 1000}\n",
      "0.63134265538 0.624579124579\n",
      "{'criterion': 'entropy', 'max_depth': 9, 'n_estimators': 500}\n",
      "0.650937660759 0.630564908343\n",
      "{'criterion': 'entropy', 'max_depth': 8, 'n_estimators': 5000}\n",
      "0.638357573774 0.635054246165\n",
      "{'criterion': 'entropy', 'max_depth': 9, 'n_estimators': 10}\n",
      "0.651452088107 0.633557800224\n",
      "{'criterion': 'gini', 'max_depth': 9, 'n_estimators': 5000}\n",
      "0.654678950568 0.62682379349\n",
      "{'criterion': 'entropy', 'max_depth': 7, 'n_estimators': 10}\n",
      "0.6348968807 0.626636737748\n",
      "{'criterion': 'entropy', 'max_depth': 9, 'n_estimators': 5000}\n",
      "0.650937660759 0.641975308642\n",
      "{'criterion': 'entropy', 'max_depth': 8, 'n_estimators': 100}\n",
      "0.637889912547 0.629442573887\n"
     ]
    }
   ],
   "source": [
    "for i in range(20):\n",
    "    label_train, label_test, feat_train, feat_test = sklearn.cross_validation.train_test_split(labels, features, test_size=0.2, random_state=i)\n",
    "    rf_classifier = RandomForestClassifier(random_state=i, n_jobs=7)\n",
    "    params = {\n",
    "        'max_depth': list(range(2,10)) + [None],\n",
    "        'criterion': ['gini', 'entropy'],\n",
    "        'n_estimators': [10, 100, 500, 1000, 2000, 5000],\n",
    "    }\n",
    "    rscv = RandomizedSearchCV(rf_classifier, params)\n",
    "    rscv.fit(feat_train, label_train)\n",
    "\n",
    "    print(rscv.best_params_)\n",
    "    print(rscv.score(feat_train, label_train), rscv.score(feat_test, label_test))"
   ]
  },
  {
   "cell_type": "code",
   "execution_count": 19,
   "metadata": {
    "collapsed": false
   },
   "outputs": [
    {
     "name": "stdout",
     "output_type": "stream",
     "text": [
      "{'criterion': 'gini', 'max_depth': 7}\n",
      "0.652948604031 0.648335203891\n",
      "{'criterion': 'entropy', 'max_depth': 3}\n",
      "0.608380489174 0.61316872428\n",
      "{'criterion': 'gini', 'max_depth': 10}\n",
      "0.674741617173 0.62962962963\n",
      "{'criterion': 'gini', 'max_depth': 5}\n",
      "0.645325726044 0.63898241676\n",
      "{'criterion': 'gini', 'max_depth': 9}\n",
      "0.664827199177 0.631313131313\n",
      "{'criterion': 'entropy', 'max_depth': 18}\n",
      "0.773932563251 0.588290310513\n",
      "{'criterion': 'gini', 'max_depth': 15}\n",
      "0.733853996165 0.619528619529\n",
      "{'criterion': 'entropy', 'max_depth': 14}\n",
      "0.721554505916 0.614852225963\n",
      "{'criterion': 'gini', 'max_depth': 7}\n",
      "0.650703830145 0.648335203891\n",
      "{'criterion': 'gini', 'max_depth': 25}\n",
      "0.810690735631 0.58024691358\n",
      "{'criterion': 'gini', 'max_depth': 51}\n",
      "0.815975307487 0.559857837636\n",
      "{'criterion': 'gini', 'max_depth': 12}\n",
      "0.696955525417 0.620463898242\n",
      "{'criterion': 'gini', 'max_depth': 10}\n",
      "0.675676939625 0.632061354284\n",
      "{'criterion': 'entropy', 'max_depth': 4}\n",
      "0.630033203947 0.630564908343\n",
      "{'criterion': 'gini', 'max_depth': 4}\n",
      "0.633540663144 0.64253647587\n",
      "{'criterion': 'gini', 'max_depth': 26}\n",
      "0.812795211149 0.567527123083\n",
      "{'criterion': 'gini', 'max_depth': 25}\n",
      "0.812421082168 0.578189300412\n",
      "{'criterion': 'gini', 'max_depth': 23}\n",
      "0.80746387317 0.572390572391\n",
      "{'criterion': 'gini', 'max_depth': 9}\n",
      "0.665481924894 0.643845866068\n",
      "{'criterion': 'gini', 'max_depth': 12}\n",
      "0.695973436842 0.629816685372\n"
     ]
    }
   ],
   "source": [
    "for i in range(20):\n",
    "    label_train, label_test, feat_train, feat_test = sklearn.cross_validation.train_test_split(labels, features, test_size=0.2, random_state=i)\n",
    "    tree_classifier = DecisionTreeClassifier(random_state=i)\n",
    "    params = {\n",
    "        'max_depth': list(range(2,100)) + [None],\n",
    "        'criterion': ['gini', 'entropy'],\n",
    "    }\n",
    "    rscv = RandomizedSearchCV(tree_classifier, params)\n",
    "    rscv.fit(feat_train, label_train)\n",
    "\n",
    "    print(rscv.best_params_)\n",
    "    print(rscv.score(feat_train, label_train), rscv.score(feat_test, label_test))"
   ]
  },
  {
   "cell_type": "code",
   "execution_count": 17,
   "metadata": {
    "collapsed": true
   },
   "outputs": [],
   "source": []
  },
  {
   "cell_type": "code",
   "execution_count": null,
   "metadata": {
    "collapsed": true
   },
   "outputs": [],
   "source": []
  }
 ],
 "metadata": {
  "kernelspec": {
   "display_name": "Python 3",
   "language": "python",
   "name": "python3"
  },
  "language_info": {
   "codemirror_mode": {
    "name": "ipython",
    "version": 3
   },
   "file_extension": ".py",
   "mimetype": "text/x-python",
   "name": "python",
   "nbconvert_exporter": "python",
   "pygments_lexer": "ipython3",
   "version": "3.4.4"
  }
 },
 "nbformat": 4,
 "nbformat_minor": 0
}
