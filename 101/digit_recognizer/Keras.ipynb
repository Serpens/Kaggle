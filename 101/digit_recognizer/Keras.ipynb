{
 "cells": [
  {
   "cell_type": "code",
   "execution_count": 1,
   "metadata": {
    "collapsed": false
   },
   "outputs": [
    {
     "name": "stderr",
     "output_type": "stream",
     "text": [
      "Using Theano backend.\n",
      "Using gpu device 0: GeForce GTX 1070 (CNMeM is disabled, cuDNN not available)\n"
     ]
    }
   ],
   "source": [
    "import numpy as np\n",
    "import pandas\n",
    "import sklearn\n",
    "from sklearn.grid_search import GridSearchCV\n",
    "from keras.models import Sequential\n",
    "from keras.layers import Dense, Activation, Dropout, Reshape, Flatten, Convolution2D, Convolution1D, AveragePooling2D, MaxPooling2D\n",
    "from keras.utils import np_utils\n",
    "from keras.wrappers.scikit_learn import KerasClassifier"
   ]
  },
  {
   "cell_type": "code",
   "execution_count": 2,
   "metadata": {
    "collapsed": true
   },
   "outputs": [],
   "source": [
    "data = pandas.read_csv('train.csv')"
   ]
  },
  {
   "cell_type": "code",
   "execution_count": 3,
   "metadata": {
    "collapsed": true
   },
   "outputs": [],
   "source": [
    "labels = data['label'].values\n",
    "labels = np_utils.to_categorical(labels)"
   ]
  },
  {
   "cell_type": "code",
   "execution_count": 4,
   "metadata": {
    "collapsed": true
   },
   "outputs": [],
   "source": [
    "features = data.iloc[:,1:].values"
   ]
  },
  {
   "cell_type": "code",
   "execution_count": 5,
   "metadata": {
    "collapsed": false
   },
   "outputs": [
    {
     "data": {
      "text/plain": [
       "((42000, 784), (42000, 10))"
      ]
     },
     "execution_count": 5,
     "metadata": {},
     "output_type": "execute_result"
    }
   ],
   "source": [
    "features.shape, labels.shape"
   ]
  },
  {
   "cell_type": "code",
   "execution_count": 6,
   "metadata": {
    "collapsed": false
   },
   "outputs": [],
   "source": [
    "def create_flat_keras_model():\n",
    "    model = Sequential()\n",
    "    model.add(Dense(784, input_dim=784))\n",
    "    model.add(Activation('relu'))\n",
    "    model.add(Dropout(0.2))\n",
    "    model.add(Dense(10))\n",
    "    model.add(Activation('softmax'))\n",
    "    model.compile(loss='categorical_crossentropy', optimizer='adam', metrics=[\"accuracy\"])\n",
    "    return model"
   ]
  },
  {
   "cell_type": "code",
   "execution_count": 7,
   "metadata": {
    "collapsed": false
   },
   "outputs": [],
   "source": [
    "label_train, label_test, feat_train, feat_test = sklearn.cross_validation.train_test_split(labels, features, test_size=0.2, random_state=42)"
   ]
  },
  {
   "cell_type": "code",
   "execution_count": 8,
   "metadata": {
    "collapsed": false
   },
   "outputs": [
    {
     "data": {
      "text/plain": [
       "((33600, 784), (33600, 10))"
      ]
     },
     "execution_count": 8,
     "metadata": {},
     "output_type": "execute_result"
    }
   ],
   "source": [
    "feat_train.shape, label_train.shape"
   ]
  },
  {
   "cell_type": "code",
   "execution_count": 9,
   "metadata": {
    "collapsed": false
   },
   "outputs": [
    {
     "name": "stdout",
     "output_type": "stream",
     "text": [
      "Epoch 1/10\n",
      "33600/33600 [==============================] - 0s - loss: 10.2171 - acc: 0.3652     \n",
      "Epoch 2/10\n",
      "33600/33600 [==============================] - 0s - loss: 9.1723 - acc: 0.4301     \n",
      "Epoch 3/10\n",
      "33600/33600 [==============================] - 0s - loss: 8.7899 - acc: 0.4539     \n",
      "Epoch 4/10\n",
      "33600/33600 [==============================] - 0s - loss: 8.7739 - acc: 0.4552     \n",
      "Epoch 5/10\n",
      "33600/33600 [==============================] - 0s - loss: 8.6625 - acc: 0.4621     \n",
      "Epoch 6/10\n",
      "33600/33600 [==============================] - 0s - loss: 8.6670 - acc: 0.4619     \n",
      "Epoch 7/10\n",
      "33600/33600 [==============================] - 0s - loss: 8.7285 - acc: 0.4582     \n",
      "Epoch 8/10\n",
      "33600/33600 [==============================] - 0s - loss: 8.6077 - acc: 0.4658     \n",
      "Epoch 9/10\n",
      "33600/33600 [==============================] - 0s - loss: 8.5395 - acc: 0.4700     \n",
      "Epoch 10/10\n",
      "33600/33600 [==============================] - 0s - loss: 8.5910 - acc: 0.4666     \n",
      "8160/8400 [============================>.] - ETA: 0s"
     ]
    },
    {
     "data": {
      "text/plain": [
       "[8.708913433438255, 0.4592857142857143]"
      ]
     },
     "execution_count": 9,
     "metadata": {},
     "output_type": "execute_result"
    }
   ],
   "source": [
    "nn_model = create_flat_keras_model()\n",
    "nn_model.fit(feat_train, label_train, nb_epoch=10, batch_size=128)\n",
    "nn_model.evaluate(feat_test, label_test)"
   ]
  },
  {
   "cell_type": "markdown",
   "metadata": {},
   "source": [
    "## Different batch sizes"
   ]
  },
  {
   "cell_type": "code",
   "execution_count": 10,
   "metadata": {
    "collapsed": false
   },
   "outputs": [
    {
     "name": "stdout",
     "output_type": "stream",
     "text": [
      "Epoch 1/10\n",
      "33600/33600 [==============================] - 0s - loss: 7.8639 - acc: 0.5082     \n",
      "Epoch 2/10\n",
      "33600/33600 [==============================] - 0s - loss: 7.0290 - acc: 0.5624     \n",
      "Epoch 3/10\n",
      "33600/33600 [==============================] - 0s - loss: 7.0028 - acc: 0.5641     \n",
      "Epoch 4/10\n",
      "33600/33600 [==============================] - 0s - loss: 6.8844 - acc: 0.5717     \n",
      "Epoch 5/10\n",
      "33600/33600 [==============================] - 0s - loss: 6.8378 - acc: 0.5749     \n",
      "Epoch 6/10\n",
      "33600/33600 [==============================] - 0s - loss: 6.8565 - acc: 0.5738     \n",
      "Epoch 7/10\n",
      "33600/33600 [==============================] - 0s - loss: 6.8649 - acc: 0.5734     \n",
      "Epoch 8/10\n",
      "33600/33600 [==============================] - 0s - loss: 6.7891 - acc: 0.5783     \n",
      "Epoch 9/10\n",
      "33600/33600 [==============================] - 0s - loss: 6.8457 - acc: 0.5744     \n",
      "Epoch 10/10\n",
      "33600/33600 [==============================] - 0s - loss: 6.7956 - acc: 0.5777     \n",
      "8400/8400 [==============================] - 0s     \n"
     ]
    },
    {
     "data": {
      "text/plain": [
       "[6.62019079208374, 0.58857142857142852]"
      ]
     },
     "execution_count": 10,
     "metadata": {},
     "output_type": "execute_result"
    }
   ],
   "source": [
    "nn_model = create_flat_keras_model()\n",
    "nn_model.fit(feat_train, label_train, nb_epoch=10, batch_size=512)\n",
    "nn_model.evaluate(feat_test, label_test)"
   ]
  },
  {
   "cell_type": "code",
   "execution_count": 11,
   "metadata": {
    "collapsed": false
   },
   "outputs": [
    {
     "name": "stdout",
     "output_type": "stream",
     "text": [
      "Epoch 1/10\n",
      "33600/33600 [==============================] - 1s - loss: 13.3848 - acc: 0.1692     \n",
      "Epoch 2/10\n",
      "33600/33600 [==============================] - 1s - loss: 12.6683 - acc: 0.2137     \n",
      "Epoch 3/10\n",
      "33600/33600 [==============================] - 1s - loss: 11.8283 - acc: 0.2661     \n",
      "Epoch 4/10\n",
      "33600/33600 [==============================] - 1s - loss: 11.9677 - acc: 0.2573     \n",
      "Epoch 5/10\n",
      "33600/33600 [==============================] - 1s - loss: 11.6199 - acc: 0.2789     \n",
      "Epoch 6/10\n",
      "33600/33600 [==============================] - 1s - loss: 12.2637 - acc: 0.2390     \n",
      "Epoch 7/10\n",
      "33600/33600 [==============================] - 1s - loss: 11.9254 - acc: 0.2600     \n",
      "Epoch 8/10\n",
      "33600/33600 [==============================] - 1s - loss: 11.7140 - acc: 0.2731     \n",
      "Epoch 9/10\n",
      "33600/33600 [==============================] - 1s - loss: 11.1289 - acc: 0.3094     \n",
      "Epoch 10/10\n",
      "33600/33600 [==============================] - 1s - loss: 10.9390 - acc: 0.3212     \n",
      "8384/8400 [============================>.] - ETA: 0s"
     ]
    },
    {
     "data": {
      "text/plain": [
       "[11.208292908441452, 0.30452380952380953]"
      ]
     },
     "execution_count": 11,
     "metadata": {},
     "output_type": "execute_result"
    }
   ],
   "source": [
    "nn_model = create_flat_keras_model()\n",
    "nn_model.fit(feat_train, label_train, nb_epoch=10, batch_size=64)\n",
    "nn_model.evaluate(feat_test, label_test)"
   ]
  },
  {
   "cell_type": "code",
   "execution_count": 12,
   "metadata": {
    "collapsed": false
   },
   "outputs": [
    {
     "name": "stdout",
     "output_type": "stream",
     "text": [
      "Epoch 1/10\n",
      "33600/33600 [==============================] - 0s - loss: 7.9895 - acc: 0.4974     \n",
      "Epoch 2/10\n",
      "33600/33600 [==============================] - 0s - loss: 5.6361 - acc: 0.6469     \n",
      "Epoch 3/10\n",
      "33600/33600 [==============================] - 0s - loss: 4.3963 - acc: 0.7242     \n",
      "Epoch 4/10\n",
      "33600/33600 [==============================] - 0s - loss: 4.0763 - acc: 0.7452     \n",
      "Epoch 5/10\n",
      "33600/33600 [==============================] - 0s - loss: 3.9664 - acc: 0.7523     \n",
      "Epoch 6/10\n",
      "33600/33600 [==============================] - 0s - loss: 3.8809 - acc: 0.7574     \n",
      "Epoch 7/10\n",
      "33600/33600 [==============================] - 0s - loss: 3.8280 - acc: 0.7609     \n",
      "Epoch 8/10\n",
      "33600/33600 [==============================] - 0s - loss: 3.7762 - acc: 0.7638     \n",
      "Epoch 9/10\n",
      "33600/33600 [==============================] - 0s - loss: 3.7479 - acc: 0.7660     \n",
      "Epoch 10/10\n",
      "33600/33600 [==============================] - 0s - loss: 3.7339 - acc: 0.7667     \n",
      "8128/8400 [============================>.] - ETA: 0s"
     ]
    },
    {
     "data": {
      "text/plain": [
       "[3.6746569406418574, 0.76964285714285718]"
      ]
     },
     "execution_count": 12,
     "metadata": {},
     "output_type": "execute_result"
    }
   ],
   "source": [
    "nn_model = create_flat_keras_model()\n",
    "nn_model.fit(feat_train, label_train, nb_epoch=10, batch_size=2000)\n",
    "nn_model.evaluate(feat_test, label_test)"
   ]
  },
  {
   "cell_type": "code",
   "execution_count": 13,
   "metadata": {
    "collapsed": false
   },
   "outputs": [
    {
     "name": "stdout",
     "output_type": "stream",
     "text": [
      "Epoch 1/10\n",
      "33600/33600 [==============================] - 0s - loss: 10.8281 - acc: 0.3212     \n",
      "Epoch 2/10\n",
      "33600/33600 [==============================] - 0s - loss: 8.7932 - acc: 0.4518     \n",
      "Epoch 3/10\n",
      "33600/33600 [==============================] - 0s - loss: 8.5581 - acc: 0.4676     \n",
      "Epoch 4/10\n",
      "33600/33600 [==============================] - 0s - loss: 8.4851 - acc: 0.4721     \n",
      "Epoch 5/10\n",
      "33600/33600 [==============================] - 0s - loss: 8.4870 - acc: 0.4722     \n",
      "Epoch 6/10\n",
      "33600/33600 [==============================] - 0s - loss: 8.4082 - acc: 0.4774     \n",
      "Epoch 7/10\n",
      "33600/33600 [==============================] - 0s - loss: 8.3759 - acc: 0.4793     \n",
      "Epoch 8/10\n",
      "33600/33600 [==============================] - 0s - loss: 8.3604 - acc: 0.4804     \n",
      "Epoch 9/10\n",
      "33600/33600 [==============================] - 0s - loss: 8.3059 - acc: 0.4838     \n",
      "Epoch 10/10\n",
      "33600/33600 [==============================] - 0s - loss: 8.2903 - acc: 0.4847     \n",
      "8352/8400 [============================>.] - ETA: 0s"
     ]
    },
    {
     "data": {
      "text/plain": [
       "[8.4212830025809158, 0.47642857142857142]"
      ]
     },
     "execution_count": 13,
     "metadata": {},
     "output_type": "execute_result"
    }
   ],
   "source": [
    "nn_model = create_flat_keras_model()\n",
    "nn_model.fit(feat_train, label_train, nb_epoch=10, batch_size=5000)\n",
    "nn_model.evaluate(feat_test, label_test)"
   ]
  },
  {
   "cell_type": "markdown",
   "metadata": {},
   "source": [
    "Batch sizes of 500 and more observations are better, probably lower values cause overfitting. Bigger batches are also faster (obviously)."
   ]
  },
  {
   "cell_type": "code",
   "execution_count": 14,
   "metadata": {
    "collapsed": true
   },
   "outputs": [],
   "source": [
    "## Optimizer"
   ]
  },
  {
   "cell_type": "code",
   "execution_count": 15,
   "metadata": {
    "collapsed": true
   },
   "outputs": [],
   "source": [
    "def create_flat_keras_model():\n",
    "    model = Sequential()\n",
    "    model.add(Dense(784, input_dim=784))\n",
    "    model.add(Activation('relu'))\n",
    "    model.add(Dropout(0.2))\n",
    "    model.add(Dense(10))\n",
    "    model.add(Activation('softmax'))\n",
    "    model.compile(loss='categorical_crossentropy', optimizer='sgd', metrics=[\"accuracy\"])\n",
    "    return model"
   ]
  },
  {
   "cell_type": "code",
   "execution_count": 16,
   "metadata": {
    "collapsed": false
   },
   "outputs": [
    {
     "name": "stdout",
     "output_type": "stream",
     "text": [
      "Epoch 1/10\n",
      "33600/33600 [==============================] - 0s - loss: 9.7667 - acc: 0.3900     \n",
      "Epoch 2/10\n",
      "33600/33600 [==============================] - 0s - loss: 7.2960 - acc: 0.5446     \n",
      "Epoch 3/10\n",
      "33600/33600 [==============================] - 0s - loss: 7.0019 - acc: 0.5635     \n",
      "Epoch 4/10\n",
      "33600/33600 [==============================] - 0s - loss: 6.8676 - acc: 0.5722     \n",
      "Epoch 5/10\n",
      "33600/33600 [==============================] - 0s - loss: 6.8392 - acc: 0.5740     \n",
      "Epoch 6/10\n",
      "33600/33600 [==============================] - 0s - loss: 6.7836 - acc: 0.5778     \n",
      "Epoch 7/10\n",
      "33600/33600 [==============================] - 0s - loss: 6.7813 - acc: 0.5781     \n",
      "Epoch 8/10\n",
      "33600/33600 [==============================] - 0s - loss: 6.7227 - acc: 0.5816     \n",
      "Epoch 9/10\n",
      "33600/33600 [==============================] - 0s - loss: 5.7051 - acc: 0.6435     \n",
      "Epoch 10/10\n",
      "33600/33600 [==============================] - 0s - loss: 5.2298 - acc: 0.6739     \n",
      "8192/8400 [============================>.] - ETA: 0s"
     ]
    },
    {
     "data": {
      "text/plain": [
       "[5.4901970954168409, 0.65571428571428569]"
      ]
     },
     "execution_count": 16,
     "metadata": {},
     "output_type": "execute_result"
    }
   ],
   "source": [
    "nn_model = create_flat_keras_model()\n",
    "nn_model.fit(feat_train, label_train, nb_epoch=10, batch_size=512)\n",
    "nn_model.evaluate(feat_test, label_test)"
   ]
  },
  {
   "cell_type": "markdown",
   "metadata": {},
   "source": [
    "## Deeper networks"
   ]
  },
  {
   "cell_type": "code",
   "execution_count": 17,
   "metadata": {
    "collapsed": true
   },
   "outputs": [],
   "source": [
    "def create_flat_keras_model():\n",
    "    model = Sequential()\n",
    "    model.add(Dense(784, input_dim=784))\n",
    "    model.add(Activation('relu'))\n",
    "    model.add(Dropout(0.5))\n",
    "    model.add(Dense(10))\n",
    "    model.add(Activation('softmax'))\n",
    "    model.compile(loss='categorical_crossentropy', optimizer='adam', metrics=[\"accuracy\"])\n",
    "    return model"
   ]
  },
  {
   "cell_type": "code",
   "execution_count": 18,
   "metadata": {
    "collapsed": false
   },
   "outputs": [
    {
     "name": "stdout",
     "output_type": "stream",
     "text": [
      "Epoch 1/10\n",
      "33600/33600 [==============================] - 0s - loss: 9.9703 - acc: 0.3793     \n",
      "Epoch 2/10\n",
      "33600/33600 [==============================] - 0s - loss: 8.5472 - acc: 0.4687     \n",
      "Epoch 3/10\n",
      "33600/33600 [==============================] - 0s - loss: 8.4016 - acc: 0.4780     \n",
      "Epoch 4/10\n",
      "33600/33600 [==============================] - 0s - loss: 8.4515 - acc: 0.4749     \n",
      "Epoch 5/10\n",
      "33600/33600 [==============================] - 0s - loss: 8.4348 - acc: 0.4760     \n",
      "Epoch 6/10\n",
      "33600/33600 [==============================] - 0s - loss: 8.1265 - acc: 0.4949     \n",
      "Epoch 7/10\n",
      "33600/33600 [==============================] - 0s - loss: 7.1388 - acc: 0.5563     \n",
      "Epoch 8/10\n",
      "33600/33600 [==============================] - 0s - loss: 7.0292 - acc: 0.5631     \n",
      "Epoch 9/10\n",
      "33600/33600 [==============================] - 0s - loss: 7.1224 - acc: 0.5575     \n",
      "Epoch 10/10\n",
      "33600/33600 [==============================] - 0s - loss: 6.9510 - acc: 0.5682     \n",
      "8352/8400 [============================>.] - ETA: 0s"
     ]
    },
    {
     "data": {
      "text/plain": [
       "[7.0871525337582542, 0.55988095238095237]"
      ]
     },
     "execution_count": 18,
     "metadata": {},
     "output_type": "execute_result"
    }
   ],
   "source": [
    "nn_model = create_flat_keras_model()\n",
    "nn_model.fit(feat_train, label_train, nb_epoch=10, batch_size=512)\n",
    "nn_model.evaluate(feat_test, label_test)"
   ]
  },
  {
   "cell_type": "code",
   "execution_count": 19,
   "metadata": {
    "collapsed": true
   },
   "outputs": [],
   "source": [
    "def add_layers_to_model(model, layer_size):\n",
    "    model.pop()    # Activation(softmax)\n",
    "    model.pop()    # Dense(10)\n",
    "    model.add(Dense(layer_size))\n",
    "    model.add(Activation('relu'))\n",
    "    model.add(Dropout(0.5))\n",
    "    model.add(Dense(10))     # needed to have right output shape\n",
    "    model.add(Activation('softmax'))\n",
    "    model.compile(loss='categorical_crossentropy', optimizer='adam', metrics=[\"accuracy\"])\n",
    "    return model"
   ]
  },
  {
   "cell_type": "code",
   "execution_count": 20,
   "metadata": {
    "collapsed": false
   },
   "outputs": [
    {
     "name": "stdout",
     "output_type": "stream",
     "text": [
      "Epoch 1/10\n",
      "33600/33600 [==============================] - 0s - loss: 12.1423 - acc: 0.2440     \n",
      "Epoch 2/10\n",
      "33600/33600 [==============================] - 0s - loss: 8.3728 - acc: 0.4781     \n",
      "Epoch 3/10\n",
      "33600/33600 [==============================] - 0s - loss: 6.2069 - acc: 0.6126     \n",
      "Epoch 4/10\n",
      "33600/33600 [==============================] - 0s - loss: 5.6059 - acc: 0.6505     \n",
      "Epoch 5/10\n",
      "33600/33600 [==============================] - 0s - loss: 5.1838 - acc: 0.6769     \n",
      "Epoch 6/10\n",
      "33600/33600 [==============================] - 0s - loss: 5.1923 - acc: 0.6764     \n",
      "Epoch 7/10\n",
      "33600/33600 [==============================] - 0s - loss: 5.0791 - acc: 0.6837     \n",
      "Epoch 8/10\n",
      "33600/33600 [==============================] - 0s - loss: 4.9704 - acc: 0.6908     \n",
      "Epoch 9/10\n",
      "33600/33600 [==============================] - 0s - loss: 4.9847 - acc: 0.6897     \n",
      "Epoch 10/10\n",
      "33600/33600 [==============================] - 0s - loss: 4.7648 - acc: 0.7036     \n",
      "8384/8400 [============================>.] - ETA: 0s"
     ]
    },
    {
     "data": {
      "text/plain": [
       "[4.2759696488153365, 0.73428571428571432]"
      ]
     },
     "execution_count": 20,
     "metadata": {},
     "output_type": "execute_result"
    }
   ],
   "source": [
    "nn_model = add_layers_to_model(nn_model, 128)\n",
    "nn_model.fit(feat_train, label_train, nb_epoch=10, batch_size=512)\n",
    "nn_model.evaluate(feat_test, label_test)"
   ]
  },
  {
   "cell_type": "code",
   "execution_count": 21,
   "metadata": {
    "collapsed": false
   },
   "outputs": [
    {
     "name": "stdout",
     "output_type": "stream",
     "text": [
      "Epoch 1/10\n",
      "33600/33600 [==============================] - 0s - loss: 13.9065 - acc: 0.1349     \n",
      "Epoch 2/10\n",
      "33600/33600 [==============================] - 0s - loss: 11.4716 - acc: 0.2854     \n",
      "Epoch 3/10\n",
      "33600/33600 [==============================] - 0s - loss: 9.6065 - acc: 0.4011     \n",
      "Epoch 4/10\n",
      "33600/33600 [==============================] - 0s - loss: 8.5043 - acc: 0.4699     \n",
      "Epoch 5/10\n",
      "33600/33600 [==============================] - 0s - loss: 7.7357 - acc: 0.5180     \n",
      "Epoch 6/10\n",
      "33600/33600 [==============================] - 0s - loss: 7.0037 - acc: 0.5630     \n",
      "Epoch 7/10\n",
      "33600/33600 [==============================] - 0s - loss: 6.3713 - acc: 0.6023     \n",
      "Epoch 8/10\n",
      "33600/33600 [==============================] - 0s - loss: 6.2045 - acc: 0.6129     \n",
      "Epoch 9/10\n",
      "33600/33600 [==============================] - 0s - loss: 5.6675 - acc: 0.6461     \n",
      "Epoch 10/10\n",
      "33600/33600 [==============================] - 0s - loss: 5.4802 - acc: 0.6576     \n",
      "8384/8400 [============================>.] - ETA: 0s"
     ]
    },
    {
     "data": {
      "text/plain": [
       "[3.6591158085777646, 0.77142857142857146]"
      ]
     },
     "execution_count": 21,
     "metadata": {},
     "output_type": "execute_result"
    }
   ],
   "source": [
    "nn_model = add_layers_to_model(nn_model, 64)\n",
    "nn_model.fit(feat_train, label_train, nb_epoch=10, batch_size=512)\n",
    "nn_model.evaluate(feat_test, label_test)"
   ]
  },
  {
   "cell_type": "code",
   "execution_count": 22,
   "metadata": {
    "collapsed": false
   },
   "outputs": [
    {
     "name": "stdout",
     "output_type": "stream",
     "text": [
      "Epoch 1/10\n",
      "33600/33600 [==============================] - 0s - loss: 13.7709 - acc: 0.1442     \n",
      "Epoch 2/10\n",
      "33600/33600 [==============================] - 0s - loss: 12.1217 - acc: 0.2464     \n",
      "Epoch 3/10\n",
      "33600/33600 [==============================] - 0s - loss: 10.9341 - acc: 0.3202     \n",
      "Epoch 4/10\n",
      "33600/33600 [==============================] - 0s - loss: 10.2191 - acc: 0.3648     \n",
      "Epoch 5/10\n",
      "33600/33600 [==============================] - 0s - loss: 9.6792 - acc: 0.3983     \n",
      "Epoch 6/10\n",
      "33600/33600 [==============================] - 0s - loss: 9.2471 - acc: 0.4254     \n",
      "Epoch 7/10\n",
      "33600/33600 [==============================] - 0s - loss: 8.7850 - acc: 0.4541     \n",
      "Epoch 8/10\n",
      "33600/33600 [==============================] - 0s - loss: 8.5023 - acc: 0.4717     \n",
      "Epoch 9/10\n",
      "33600/33600 [==============================] - 0s - loss: 8.3572 - acc: 0.4808     \n",
      "Epoch 10/10\n",
      "33600/33600 [==============================] - 0s - loss: 8.2138 - acc: 0.4898     \n",
      "8320/8400 [============================>.] - ETA: 0s"
     ]
    },
    {
     "data": {
      "text/plain": [
       "[6.9378743244352794, 0.56916666666666671]"
      ]
     },
     "execution_count": 22,
     "metadata": {},
     "output_type": "execute_result"
    }
   ],
   "source": [
    "nn_model = add_layers_to_model(nn_model, 128)\n",
    "nn_model.fit(feat_train, label_train, nb_epoch=10, batch_size=512)\n",
    "nn_model.evaluate(feat_test, label_test)"
   ]
  },
  {
   "cell_type": "markdown",
   "metadata": {},
   "source": [
    "It improves to a certain point, adding more layers after that decreases accuracy"
   ]
  },
  {
   "cell_type": "markdown",
   "metadata": {},
   "source": [
    "## Convolution"
   ]
  },
  {
   "cell_type": "code",
   "execution_count": 23,
   "metadata": {
    "collapsed": false
   },
   "outputs": [],
   "source": [
    "feat_train = feat_train.reshape((feat_train.shape[0], 1, 28, 28))\n",
    "feat_test = feat_test.reshape((feat_test.shape[0], 1, 28, 28))"
   ]
  },
  {
   "cell_type": "code",
   "execution_count": 24,
   "metadata": {
    "collapsed": false
   },
   "outputs": [],
   "source": [
    "def create_convoluted_keras_model():\n",
    "    model = Sequential()\n",
    "    model.add(Convolution2D(nb_filter=32, nb_row=3, nb_col=3, border_mode='valid', input_shape=(1, 28, 28)))\n",
    "    model.add(Activation('relu'))\n",
    "    model.add(Dropout(0.5))\n",
    "    model.add(Flatten())\n",
    "    model.add(Dense(100))\n",
    "    model.add(Activation('relu'))\n",
    "    model.add(Dropout(0.5))\n",
    "    model.add(Dense(10))\n",
    "    model.add(Activation('softmax'))\n",
    "    model.compile(loss='categorical_crossentropy', optimizer='sgd', metrics=[\"accuracy\"])\n",
    "    return model"
   ]
  },
  {
   "cell_type": "code",
   "execution_count": 25,
   "metadata": {
    "collapsed": false
   },
   "outputs": [
    {
     "name": "stdout",
     "output_type": "stream",
     "text": [
      "Epoch 1/10\n",
      "33600/33600 [==============================] - 1s - loss: 4.1906 - acc: 0.5936     \n",
      "Epoch 2/10\n",
      "33600/33600 [==============================] - 1s - loss: 0.7006 - acc: 0.7937     \n",
      "Epoch 3/10\n",
      "33600/33600 [==============================] - 1s - loss: 0.5320 - acc: 0.8399     \n",
      "Epoch 4/10\n",
      "33600/33600 [==============================] - 1s - loss: 0.4356 - acc: 0.8686     \n",
      "Epoch 5/10\n",
      "33600/33600 [==============================] - 1s - loss: 0.3981 - acc: 0.8796     \n",
      "Epoch 6/10\n",
      "33600/33600 [==============================] - 1s - loss: 0.3521 - acc: 0.8943     \n",
      "Epoch 7/10\n",
      "33600/33600 [==============================] - 1s - loss: 0.3291 - acc: 0.8996     \n",
      "Epoch 8/10\n",
      "33600/33600 [==============================] - 1s - loss: 0.2981 - acc: 0.9093     \n",
      "Epoch 9/10\n",
      "33600/33600 [==============================] - 1s - loss: 0.2725 - acc: 0.9152     \n",
      "Epoch 10/10\n",
      "33600/33600 [==============================] - 1s - loss: 0.2626 - acc: 0.9199     \n",
      "8400/8400 [==============================] - 0s     \n"
     ]
    },
    {
     "data": {
      "text/plain": [
       "[0.12351059441099919, 0.96488095238095239]"
      ]
     },
     "execution_count": 25,
     "metadata": {},
     "output_type": "execute_result"
    }
   ],
   "source": [
    "nn_model = create_convoluted_keras_model()\n",
    "nn_model.fit(feat_train, label_train, nb_epoch=10, batch_size=512)\n",
    "nn_model.evaluate(feat_test, label_test)"
   ]
  },
  {
   "cell_type": "code",
   "execution_count": 26,
   "metadata": {
    "collapsed": false
   },
   "outputs": [],
   "source": [
    "def create_convoluted_keras_model():\n",
    "    model = Sequential()\n",
    "    model.add(Convolution2D(nb_filter=32, nb_row=3, nb_col=3, border_mode='valid', input_shape=(1, 28, 28)))\n",
    "    model.add(Activation('relu'))\n",
    "    model.add(Dropout(0.5))\n",
    "    model.add(Flatten())\n",
    "    model.add(Dense(100))\n",
    "    model.add(Activation('relu'))\n",
    "    model.add(Dropout(0.5))\n",
    "    model.add(Dense(100))\n",
    "    model.add(Activation('relu'))\n",
    "    model.add(Dropout(0.5))\n",
    "    model.add(Dense(10))\n",
    "    model.add(Activation('softmax'))\n",
    "    model.compile(loss='categorical_crossentropy', optimizer='sgd', metrics=[\"accuracy\"])\n",
    "    return model"
   ]
  },
  {
   "cell_type": "code",
   "execution_count": 27,
   "metadata": {
    "collapsed": false
   },
   "outputs": [
    {
     "name": "stdout",
     "output_type": "stream",
     "text": [
      "Epoch 1/10\n",
      "33600/33600 [==============================] - 2s - loss: 6.4402 - acc: 0.2738     \n",
      "Epoch 2/10\n",
      "33600/33600 [==============================] - 2s - loss: 1.4419 - acc: 0.5283     \n",
      "Epoch 3/10\n",
      "33600/33600 [==============================] - 1s - loss: 1.0561 - acc: 0.6629     \n",
      "Epoch 4/10\n",
      "33600/33600 [==============================] - 1s - loss: 0.8419 - acc: 0.7344     \n",
      "Epoch 5/10\n",
      "33600/33600 [==============================] - 1s - loss: 0.7108 - acc: 0.7799     \n",
      "Epoch 6/10\n",
      "33600/33600 [==============================] - 1s - loss: 0.6322 - acc: 0.8065     \n",
      "Epoch 7/10\n",
      "33600/33600 [==============================] - 1s - loss: 0.5591 - acc: 0.8318     \n",
      "Epoch 8/10\n",
      "33600/33600 [==============================] - 1s - loss: 0.5154 - acc: 0.8462     \n",
      "Epoch 9/10\n",
      "33600/33600 [==============================] - 1s - loss: 0.4623 - acc: 0.8609     \n",
      "Epoch 10/10\n",
      "33600/33600 [==============================] - 1s - loss: 0.4341 - acc: 0.8721     \n",
      "8352/8400 [============================>.] - ETA: 0s"
     ]
    },
    {
     "data": {
      "text/plain": [
       "[0.16222245575061867, 0.95857142857142852]"
      ]
     },
     "execution_count": 27,
     "metadata": {},
     "output_type": "execute_result"
    }
   ],
   "source": [
    "nn_model = create_convoluted_keras_model()\n",
    "nn_model.fit(feat_train, label_train, nb_epoch=10, batch_size=512)\n",
    "nn_model.evaluate(feat_test, label_test)"
   ]
  },
  {
   "cell_type": "code",
   "execution_count": 28,
   "metadata": {
    "collapsed": true
   },
   "outputs": [],
   "source": [
    "def create_convoluted_keras_model():\n",
    "    model = Sequential()\n",
    "    model.add(Convolution2D(nb_filter=32, nb_row=3, nb_col=3, border_mode='valid', input_shape=(1, 28, 28)))\n",
    "    model.add(Activation('relu'))\n",
    "    model.add(Convolution2D(nb_filter=32, nb_row=3, nb_col=3, border_mode='valid', input_shape=(1, 28, 28)))\n",
    "    model.add(Activation('relu'))\n",
    "    model.add(Dropout(0.5))\n",
    "    model.add(Flatten())\n",
    "    model.add(Dense(100))\n",
    "    model.add(Activation('relu'))\n",
    "    model.add(Dropout(0.5))\n",
    "    model.add(Dense(100))\n",
    "    model.add(Activation('relu'))\n",
    "    model.add(Dropout(0.5))\n",
    "    model.add(Dense(10))\n",
    "    model.add(Activation('softmax'))\n",
    "    model.compile(loss='categorical_crossentropy', optimizer='sgd', metrics=[\"accuracy\"])\n",
    "    return model"
   ]
  },
  {
   "cell_type": "code",
   "execution_count": 29,
   "metadata": {
    "collapsed": false
   },
   "outputs": [
    {
     "name": "stdout",
     "output_type": "stream",
     "text": [
      "Epoch 1/10\n",
      "33600/33600 [==============================] - 5s - loss: 2.7813 - acc: 0.2423     \n",
      "Epoch 2/10\n",
      "33600/33600 [==============================] - 5s - loss: 1.4786 - acc: 0.4965     \n",
      "Epoch 3/10\n",
      "33600/33600 [==============================] - 5s - loss: 1.0244 - acc: 0.6661     \n",
      "Epoch 4/10\n",
      "33600/33600 [==============================] - 5s - loss: 0.7870 - acc: 0.7487     \n",
      "Epoch 5/10\n",
      "33600/33600 [==============================] - 5s - loss: 0.6473 - acc: 0.7954     \n",
      "Epoch 6/10\n",
      "33600/33600 [==============================] - 5s - loss: 0.5679 - acc: 0.8249     \n",
      "Epoch 7/10\n",
      "33600/33600 [==============================] - 5s - loss: 0.5002 - acc: 0.8490     \n",
      "Epoch 8/10\n",
      "33600/33600 [==============================] - 5s - loss: 0.4462 - acc: 0.8656     \n",
      "Epoch 9/10\n",
      "33600/33600 [==============================] - 5s - loss: 0.4145 - acc: 0.8768     \n",
      "Epoch 10/10\n",
      "33600/33600 [==============================] - 5s - loss: 0.3864 - acc: 0.8843     \n",
      "8320/8400 [============================>.] - ETA: 0s"
     ]
    },
    {
     "data": {
      "text/plain": [
       "[0.14169917189205686, 0.96107142857142858]"
      ]
     },
     "execution_count": 29,
     "metadata": {},
     "output_type": "execute_result"
    }
   ],
   "source": [
    "nn_model = create_convoluted_keras_model()\n",
    "nn_model.fit(feat_train, label_train, nb_epoch=10, batch_size=512)\n",
    "nn_model.evaluate(feat_test, label_test)"
   ]
  },
  {
   "cell_type": "code",
   "execution_count": 30,
   "metadata": {
    "collapsed": true
   },
   "outputs": [],
   "source": [
    "def create_convoluted_keras_model():\n",
    "    model = Sequential()\n",
    "    model.add(Convolution2D(nb_filter=32, nb_row=3, nb_col=3, border_mode='valid', input_shape=(1, 28, 28)))\n",
    "    model.add(Activation('relu'))\n",
    "    model.add(Convolution2D(nb_filter=32, nb_row=3, nb_col=3, border_mode='valid', input_shape=(1, 28, 28)))\n",
    "    model.add(Activation('relu'))\n",
    "    model.add(MaxPooling2D(pool_size=(3, 3)))\n",
    "    model.add(Dropout(0.5))\n",
    "    model.add(Flatten())\n",
    "    model.add(Dense(100))\n",
    "    model.add(Activation('relu'))\n",
    "    model.add(Dropout(0.5))\n",
    "    model.add(Dense(100))\n",
    "    model.add(Activation('relu'))\n",
    "    model.add(Dropout(0.5))\n",
    "    model.add(Dense(10))\n",
    "    model.add(Activation('softmax'))\n",
    "    model.compile(loss='categorical_crossentropy', optimizer='sgd', metrics=[\"accuracy\"])\n",
    "    return model"
   ]
  },
  {
   "cell_type": "code",
   "execution_count": 31,
   "metadata": {
    "collapsed": false
   },
   "outputs": [
    {
     "name": "stdout",
     "output_type": "stream",
     "text": [
      "Epoch 1/10\n",
      "33600/33600 [==============================] - 5s - loss: 4.3951 - acc: 0.1511     \n",
      "Epoch 2/10\n",
      "33600/33600 [==============================] - 5s - loss: 2.1554 - acc: 0.2229     \n",
      "Epoch 3/10\n",
      "33600/33600 [==============================] - 5s - loss: 1.9097 - acc: 0.3248     \n",
      "Epoch 4/10\n",
      "33600/33600 [==============================] - 5s - loss: 1.6576 - acc: 0.4200     \n",
      "Epoch 5/10\n",
      "33600/33600 [==============================] - 5s - loss: 1.4274 - acc: 0.5101     \n",
      "Epoch 6/10\n",
      "33600/33600 [==============================] - 5s - loss: 1.2246 - acc: 0.5846     \n",
      "Epoch 7/10\n",
      "33600/33600 [==============================] - 5s - loss: 1.0916 - acc: 0.6343     \n",
      "Epoch 8/10\n",
      "33600/33600 [==============================] - 5s - loss: 0.9639 - acc: 0.6828     \n",
      "Epoch 9/10\n",
      "33600/33600 [==============================] - 5s - loss: 0.8578 - acc: 0.7176     \n",
      "Epoch 10/10\n",
      "33600/33600 [==============================] - 5s - loss: 0.7857 - acc: 0.7447     \n",
      "8384/8400 [============================>.] - ETA: 0s"
     ]
    },
    {
     "data": {
      "text/plain": [
       "[0.30620023734512786, 0.93261904761904757]"
      ]
     },
     "execution_count": 31,
     "metadata": {},
     "output_type": "execute_result"
    }
   ],
   "source": [
    "nn_model = create_convoluted_keras_model()\n",
    "nn_model.fit(feat_train, label_train, nb_epoch=10, batch_size=512)\n",
    "nn_model.evaluate(feat_test, label_test)"
   ]
  },
  {
   "cell_type": "code",
   "execution_count": null,
   "metadata": {
    "collapsed": true
   },
   "outputs": [],
   "source": []
  },
  {
   "cell_type": "code",
   "execution_count": null,
   "metadata": {
    "collapsed": true
   },
   "outputs": [],
   "source": []
  }
 ],
 "metadata": {
  "anaconda-cloud": {},
  "kernelspec": {
   "display_name": "Python [Root]",
   "language": "python",
   "name": "Python [Root]"
  },
  "language_info": {
   "codemirror_mode": {
    "name": "ipython",
    "version": 3
   },
   "file_extension": ".py",
   "mimetype": "text/x-python",
   "name": "python",
   "nbconvert_exporter": "python",
   "pygments_lexer": "ipython3",
   "version": "3.5.2"
  }
 },
 "nbformat": 4,
 "nbformat_minor": 0
}
