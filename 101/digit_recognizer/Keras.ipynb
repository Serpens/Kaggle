{
 "cells": [
  {
   "cell_type": "code",
   "execution_count": 1,
   "metadata": {
    "collapsed": false
   },
   "outputs": [
    {
     "name": "stderr",
     "output_type": "stream",
     "text": [
      "Using Theano backend.\n",
      "Using gpu device 0: GeForce GTX 1070 (CNMeM is disabled, cuDNN not available)\n"
     ]
    }
   ],
   "source": [
    "import numpy as np\n",
    "import pandas\n",
    "import sklearn\n",
    "from sklearn.grid_search import GridSearchCV\n",
    "from keras.models import Sequential\n",
    "from keras.layers import Dense, Activation, Dropout, Reshape, Flatten, Convolution2D, Convolution1D, AveragePooling2D, MaxPooling2D\n",
    "from keras.utils import np_utils\n",
    "from keras.wrappers.scikit_learn import KerasClassifier\n",
    "import pickle"
   ]
  },
  {
   "cell_type": "code",
   "execution_count": 2,
   "metadata": {
    "collapsed": false
   },
   "outputs": [],
   "source": [
    "data = pandas.read_csv('train.csv')"
   ]
  },
  {
   "cell_type": "code",
   "execution_count": 3,
   "metadata": {
    "collapsed": true
   },
   "outputs": [],
   "source": [
    "labels = data['label'].values\n",
    "labels = np_utils.to_categorical(labels)"
   ]
  },
  {
   "cell_type": "code",
   "execution_count": 4,
   "metadata": {
    "collapsed": true
   },
   "outputs": [],
   "source": [
    "features = data.iloc[:,1:].values"
   ]
  },
  {
   "cell_type": "code",
   "execution_count": 5,
   "metadata": {
    "collapsed": false
   },
   "outputs": [
    {
     "data": {
      "text/plain": [
       "((42000, 784), (42000, 10))"
      ]
     },
     "execution_count": 5,
     "metadata": {},
     "output_type": "execute_result"
    }
   ],
   "source": [
    "features.shape, labels.shape"
   ]
  },
  {
   "cell_type": "code",
   "execution_count": 6,
   "metadata": {
    "collapsed": false
   },
   "outputs": [],
   "source": [
    "def create_flat_keras_model():\n",
    "    model = Sequential()\n",
    "    model.add(Dense(784, input_dim=784))\n",
    "    model.add(Activation('relu'))\n",
    "    model.add(Dropout(0.2))\n",
    "    model.add(Dense(10))\n",
    "    model.add(Activation('softmax'))\n",
    "    model.compile(loss='categorical_crossentropy', optimizer='adam', metrics=[\"accuracy\"])\n",
    "    return model"
   ]
  },
  {
   "cell_type": "code",
   "execution_count": 7,
   "metadata": {
    "collapsed": false
   },
   "outputs": [],
   "source": [
    "label_train, label_test, feat_train, feat_test = sklearn.cross_validation.train_test_split(labels, features, test_size=0.2, random_state=42)"
   ]
  },
  {
   "cell_type": "code",
   "execution_count": 8,
   "metadata": {
    "collapsed": false
   },
   "outputs": [
    {
     "data": {
      "text/plain": [
       "((33600, 784), (33600, 10))"
      ]
     },
     "execution_count": 8,
     "metadata": {},
     "output_type": "execute_result"
    }
   ],
   "source": [
    "feat_train.shape, label_train.shape"
   ]
  },
  {
   "cell_type": "code",
   "execution_count": 9,
   "metadata": {
    "collapsed": false
   },
   "outputs": [
    {
     "name": "stdout",
     "output_type": "stream",
     "text": [
      "Epoch 1/10\n",
      "33600/33600 [==============================] - 0s - loss: 9.5233 - acc: 0.4074     \n",
      "Epoch 2/10\n",
      "33600/33600 [==============================] - 0s - loss: 9.1014 - acc: 0.4348     \n",
      "Epoch 3/10\n",
      "33600/33600 [==============================] - 0s - loss: 9.0576 - acc: 0.4376     \n",
      "Epoch 4/10\n",
      "33600/33600 [==============================] - 0s - loss: 9.1316 - acc: 0.4330     \n",
      "Epoch 5/10\n",
      "33600/33600 [==============================] - 0s - loss: 8.9914 - acc: 0.4416     \n",
      "Epoch 6/10\n",
      "33600/33600 [==============================] - 0s - loss: 8.9880 - acc: 0.4421     \n",
      "Epoch 7/10\n",
      "33600/33600 [==============================] - 0s - loss: 8.9995 - acc: 0.4413     \n",
      "Epoch 8/10\n",
      "33600/33600 [==============================] - 0s - loss: 9.2649 - acc: 0.4248     \n",
      "Epoch 9/10\n",
      "33600/33600 [==============================] - 0s - loss: 8.8321 - acc: 0.4518     \n",
      "Epoch 10/10\n",
      "33600/33600 [==============================] - 0s - loss: 8.8344 - acc: 0.4518     \n",
      "8160/8400 [============================>.] - ETA: 0s"
     ]
    },
    {
     "data": {
      "text/plain": [
       "[8.7446558143979018, 0.45714285714285713]"
      ]
     },
     "execution_count": 9,
     "metadata": {},
     "output_type": "execute_result"
    }
   ],
   "source": [
    "nn_model = create_flat_keras_model()\n",
    "nn_model.fit(feat_train, label_train, nb_epoch=10, batch_size=128)\n",
    "nn_model.evaluate(feat_test, label_test)"
   ]
  },
  {
   "cell_type": "markdown",
   "metadata": {},
   "source": [
    "## Different batch sizes"
   ]
  },
  {
   "cell_type": "code",
   "execution_count": 10,
   "metadata": {
    "collapsed": false
   },
   "outputs": [
    {
     "name": "stdout",
     "output_type": "stream",
     "text": [
      "Epoch 1/10\n",
      "33600/33600 [==============================] - 0s - loss: 9.8454 - acc: 0.3866     \n",
      "Epoch 2/10\n",
      "33600/33600 [==============================] - 0s - loss: 8.7392 - acc: 0.4566     \n",
      "Epoch 3/10\n",
      "33600/33600 [==============================] - 0s - loss: 8.4972 - acc: 0.4720     \n",
      "Epoch 4/10\n",
      "33600/33600 [==============================] - 0s - loss: 8.1994 - acc: 0.4899     \n",
      "Epoch 5/10\n",
      "33600/33600 [==============================] - 0s - loss: 7.3156 - acc: 0.5449     \n",
      "Epoch 6/10\n",
      "33600/33600 [==============================] - 0s - loss: 7.3064 - acc: 0.5456     \n",
      "Epoch 7/10\n",
      "33600/33600 [==============================] - 0s - loss: 7.1558 - acc: 0.5550     \n",
      "Epoch 8/10\n",
      "33600/33600 [==============================] - 0s - loss: 7.1821 - acc: 0.5534     \n",
      "Epoch 9/10\n",
      "33600/33600 [==============================] - 0s - loss: 7.0400 - acc: 0.5624     \n",
      "Epoch 10/10\n",
      "33600/33600 [==============================] - 0s - loss: 7.0301 - acc: 0.5629     \n",
      "8192/8400 [============================>.] - ETA: 0s"
     ]
    },
    {
     "data": {
      "text/plain": [
       "[6.7870943351018997, 0.57821428571428568]"
      ]
     },
     "execution_count": 10,
     "metadata": {},
     "output_type": "execute_result"
    }
   ],
   "source": [
    "nn_model = create_flat_keras_model()\n",
    "nn_model.fit(feat_train, label_train, nb_epoch=10, batch_size=512)\n",
    "nn_model.evaluate(feat_test, label_test)"
   ]
  },
  {
   "cell_type": "code",
   "execution_count": 11,
   "metadata": {
    "collapsed": false
   },
   "outputs": [
    {
     "name": "stdout",
     "output_type": "stream",
     "text": [
      "Epoch 1/10\n",
      "33600/33600 [==============================] - 1s - loss: 12.0031 - acc: 0.2546     \n",
      "Epoch 2/10\n",
      "33600/33600 [==============================] - 1s - loss: 10.7638 - acc: 0.3318     \n",
      "Epoch 3/10\n",
      "33600/33600 [==============================] - 1s - loss: 10.0859 - acc: 0.3740     \n",
      "Epoch 4/10\n",
      "33600/33600 [==============================] - 1s - loss: 9.9402 - acc: 0.3831     \n",
      "Epoch 5/10\n",
      "33600/33600 [==============================] - 1s - loss: 9.9579 - acc: 0.3820     \n",
      "Epoch 6/10\n",
      "33600/33600 [==============================] - 1s - loss: 9.8588 - acc: 0.3883     \n",
      "Epoch 7/10\n",
      "33600/33600 [==============================] - 1s - loss: 10.0596 - acc: 0.3757     \n",
      "Epoch 8/10\n",
      "33600/33600 [==============================] - 1s - loss: 9.9957 - acc: 0.3796     \n",
      "Epoch 9/10\n",
      "33600/33600 [==============================] - 1s - loss: 9.3121 - acc: 0.4220     \n",
      "Epoch 10/10\n",
      "33600/33600 [==============================] - 1s - loss: 9.9389 - acc: 0.3831     \n",
      "8192/8400 [============================>.] - ETA: 0s"
     ]
    },
    {
     "data": {
      "text/plain": [
       "[10.5208949025472, 0.34726190476190477]"
      ]
     },
     "execution_count": 11,
     "metadata": {},
     "output_type": "execute_result"
    }
   ],
   "source": [
    "nn_model = create_flat_keras_model()\n",
    "nn_model.fit(feat_train, label_train, nb_epoch=10, batch_size=64)\n",
    "nn_model.evaluate(feat_test, label_test)"
   ]
  },
  {
   "cell_type": "code",
   "execution_count": 12,
   "metadata": {
    "collapsed": false
   },
   "outputs": [
    {
     "name": "stdout",
     "output_type": "stream",
     "text": [
      "Epoch 1/10\n",
      "33600/33600 [==============================] - 0s - loss: 8.3594 - acc: 0.4752     \n",
      "Epoch 2/10\n",
      "33600/33600 [==============================] - 0s - loss: 6.9916 - acc: 0.5646     \n",
      "Epoch 3/10\n",
      "33600/33600 [==============================] - 0s - loss: 6.9474 - acc: 0.5678     \n",
      "Epoch 4/10\n",
      "33600/33600 [==============================] - 0s - loss: 6.8367 - acc: 0.5748     \n",
      "Epoch 5/10\n",
      "33600/33600 [==============================] - 0s - loss: 6.8366 - acc: 0.5749     \n",
      "Epoch 6/10\n",
      "33600/33600 [==============================] - 0s - loss: 6.7669 - acc: 0.5794     \n",
      "Epoch 7/10\n",
      "33600/33600 [==============================] - 0s - loss: 6.7598 - acc: 0.5797     \n",
      "Epoch 8/10\n",
      "33600/33600 [==============================] - 0s - loss: 6.7311 - acc: 0.5816     \n",
      "Epoch 9/10\n",
      "33600/33600 [==============================] - 0s - loss: 6.7604 - acc: 0.5797     \n",
      "Epoch 10/10\n",
      "33600/33600 [==============================] - 0s - loss: 6.7175 - acc: 0.5826     \n",
      "8400/8400 [==============================] - 0s     \n"
     ]
    },
    {
     "data": {
      "text/plain": [
       "[6.9256377683367045, 0.56952380952380954]"
      ]
     },
     "execution_count": 12,
     "metadata": {},
     "output_type": "execute_result"
    }
   ],
   "source": [
    "nn_model = create_flat_keras_model()\n",
    "nn_model.fit(feat_train, label_train, nb_epoch=10, batch_size=2000)\n",
    "nn_model.evaluate(feat_test, label_test)"
   ]
  },
  {
   "cell_type": "code",
   "execution_count": 13,
   "metadata": {
    "collapsed": false
   },
   "outputs": [
    {
     "name": "stdout",
     "output_type": "stream",
     "text": [
      "Epoch 1/10\n",
      "33600/33600 [==============================] - 0s - loss: 8.8873 - acc: 0.4388     \n",
      "Epoch 2/10\n",
      "33600/33600 [==============================] - 0s - loss: 5.8382 - acc: 0.6341     \n",
      "Epoch 3/10\n",
      "33600/33600 [==============================] - 0s - loss: 4.9623 - acc: 0.6871     \n",
      "Epoch 4/10\n",
      "33600/33600 [==============================] - 0s - loss: 4.5030 - acc: 0.7168     \n",
      "Epoch 5/10\n",
      "33600/33600 [==============================] - 0s - loss: 4.3377 - acc: 0.7275     \n",
      "Epoch 6/10\n",
      "33600/33600 [==============================] - 0s - loss: 4.1246 - acc: 0.7417     \n",
      "Epoch 7/10\n",
      "33600/33600 [==============================] - 0s - loss: 3.9937 - acc: 0.7495     \n",
      "Epoch 8/10\n",
      "33600/33600 [==============================] - 0s - loss: 3.9441 - acc: 0.7533     \n",
      "Epoch 9/10\n",
      "33600/33600 [==============================] - 0s - loss: 3.9586 - acc: 0.7521     \n",
      "Epoch 10/10\n",
      "33600/33600 [==============================] - 0s - loss: 3.8922 - acc: 0.7566     \n",
      "8288/8400 [============================>.] - ETA: 0s"
     ]
    },
    {
     "data": {
      "text/plain": [
       "[3.932785792350769, 0.75404761904761908]"
      ]
     },
     "execution_count": 13,
     "metadata": {},
     "output_type": "execute_result"
    }
   ],
   "source": [
    "nn_model = create_flat_keras_model()\n",
    "nn_model.fit(feat_train, label_train, nb_epoch=10, batch_size=5000)\n",
    "nn_model.evaluate(feat_test, label_test)"
   ]
  },
  {
   "cell_type": "markdown",
   "metadata": {},
   "source": [
    "Batch sizes of 500 and more observations are better, probably lower values cause overfitting. Bigger batches are also faster (obviously)."
   ]
  },
  {
   "cell_type": "code",
   "execution_count": 14,
   "metadata": {
    "collapsed": true
   },
   "outputs": [],
   "source": [
    "## Optimizer"
   ]
  },
  {
   "cell_type": "code",
   "execution_count": 15,
   "metadata": {
    "collapsed": true
   },
   "outputs": [],
   "source": [
    "def create_flat_keras_model():\n",
    "    model = Sequential()\n",
    "    model.add(Dense(784, input_dim=784))\n",
    "    model.add(Activation('relu'))\n",
    "    model.add(Dropout(0.2))\n",
    "    model.add(Dense(10))\n",
    "    model.add(Activation('softmax'))\n",
    "    model.compile(loss='categorical_crossentropy', optimizer='sgd', metrics=[\"accuracy\"])\n",
    "    return model"
   ]
  },
  {
   "cell_type": "code",
   "execution_count": 16,
   "metadata": {
    "collapsed": false
   },
   "outputs": [
    {
     "name": "stdout",
     "output_type": "stream",
     "text": [
      "Epoch 1/10\n",
      "33600/33600 [==============================] - 0s - loss: 10.5025 - acc: 0.3452     \n",
      "Epoch 2/10\n",
      "33600/33600 [==============================] - 0s - loss: 7.8103 - acc: 0.5119     \n",
      "Epoch 3/10\n",
      "33600/33600 [==============================] - 0s - loss: 7.2931 - acc: 0.5449     \n",
      "Epoch 4/10\n",
      "33600/33600 [==============================] - 0s - loss: 7.1186 - acc: 0.5565     \n",
      "Epoch 5/10\n",
      "33600/33600 [==============================] - 0s - loss: 6.3115 - acc: 0.6058     \n",
      "Epoch 6/10\n",
      "33600/33600 [==============================] - 0s - loss: 5.6179 - acc: 0.6486     \n",
      "Epoch 7/10\n",
      "33600/33600 [==============================] - 0s - loss: 5.4901 - acc: 0.6568     \n",
      "Epoch 8/10\n",
      "33600/33600 [==============================] - 0s - loss: 5.4073 - acc: 0.6623     \n",
      "Epoch 9/10\n",
      "33600/33600 [==============================] - 0s - loss: 5.3396 - acc: 0.6668     \n",
      "Epoch 10/10\n",
      "33600/33600 [==============================] - 0s - loss: 5.3019 - acc: 0.6696     \n",
      "8288/8400 [============================>.] - ETA: 0s"
     ]
    },
    {
     "data": {
      "text/plain": [
       "[5.4410234841846288, 0.66047619047619044]"
      ]
     },
     "execution_count": 16,
     "metadata": {},
     "output_type": "execute_result"
    }
   ],
   "source": [
    "nn_model = create_flat_keras_model()\n",
    "nn_model.fit(feat_train, label_train, nb_epoch=10, batch_size=512)\n",
    "nn_model.evaluate(feat_test, label_test)"
   ]
  },
  {
   "cell_type": "markdown",
   "metadata": {},
   "source": [
    "## Deeper networks"
   ]
  },
  {
   "cell_type": "code",
   "execution_count": 17,
   "metadata": {
    "collapsed": true
   },
   "outputs": [],
   "source": [
    "def create_flat_keras_model():\n",
    "    model = Sequential()\n",
    "    model.add(Dense(784, input_dim=784))\n",
    "    model.add(Activation('relu'))\n",
    "    model.add(Dropout(0.5))\n",
    "    model.add(Dense(10))\n",
    "    model.add(Activation('softmax'))\n",
    "    model.compile(loss='categorical_crossentropy', optimizer='adam', metrics=[\"accuracy\"])\n",
    "    return model"
   ]
  },
  {
   "cell_type": "code",
   "execution_count": 18,
   "metadata": {
    "collapsed": false
   },
   "outputs": [
    {
     "name": "stdout",
     "output_type": "stream",
     "text": [
      "Epoch 1/10\n",
      "33600/33600 [==============================] - 0s - loss: 9.1197 - acc: 0.4311     \n",
      "Epoch 2/10\n",
      "33600/33600 [==============================] - 0s - loss: 7.4917 - acc: 0.5336     \n",
      "Epoch 3/10\n",
      "33600/33600 [==============================] - 0s - loss: 7.3054 - acc: 0.5454     \n",
      "Epoch 4/10\n",
      "33600/33600 [==============================] - 0s - loss: 7.1564 - acc: 0.5550     \n",
      "Epoch 5/10\n",
      "33600/33600 [==============================] - 0s - loss: 7.0245 - acc: 0.5630     \n",
      "Epoch 6/10\n",
      "33600/33600 [==============================] - 0s - loss: 7.0758 - acc: 0.5603     \n",
      "Epoch 7/10\n",
      "33600/33600 [==============================] - 0s - loss: 6.9580 - acc: 0.5675     \n",
      "Epoch 8/10\n",
      "33600/33600 [==============================] - 0s - loss: 6.9650 - acc: 0.5672     \n",
      "Epoch 9/10\n",
      "33600/33600 [==============================] - 0s - loss: 7.0619 - acc: 0.5609     \n",
      "Epoch 10/10\n",
      "33600/33600 [==============================] - 0s - loss: 7.0003 - acc: 0.5650     \n",
      "8384/8400 [============================>.] - ETA: 0s"
     ]
    },
    {
     "data": {
      "text/plain": [
       "[6.9223974663870678, 0.56999999999999995]"
      ]
     },
     "execution_count": 18,
     "metadata": {},
     "output_type": "execute_result"
    }
   ],
   "source": [
    "nn_model = create_flat_keras_model()\n",
    "nn_model.fit(feat_train, label_train, nb_epoch=10, batch_size=512)\n",
    "nn_model.evaluate(feat_test, label_test)"
   ]
  },
  {
   "cell_type": "code",
   "execution_count": 19,
   "metadata": {
    "collapsed": true
   },
   "outputs": [],
   "source": [
    "def add_layers_to_model(model, layer_size):\n",
    "    model.pop()    # Activation(softmax)\n",
    "    model.pop()    # Dense(10)\n",
    "    model.add(Dense(layer_size))\n",
    "    model.add(Activation('relu'))\n",
    "    model.add(Dropout(0.5))\n",
    "    model.add(Dense(10))     # needed to have right output shape\n",
    "    model.add(Activation('softmax'))\n",
    "    model.compile(loss='categorical_crossentropy', optimizer='adam', metrics=[\"accuracy\"])\n",
    "    return model"
   ]
  },
  {
   "cell_type": "code",
   "execution_count": 20,
   "metadata": {
    "collapsed": false
   },
   "outputs": [
    {
     "name": "stdout",
     "output_type": "stream",
     "text": [
      "Epoch 1/10\n",
      "33600/33600 [==============================] - 0s - loss: 11.2551 - acc: 0.2985     \n",
      "Epoch 2/10\n",
      "33600/33600 [==============================] - 0s - loss: 7.8656 - acc: 0.5086     \n",
      "Epoch 3/10\n",
      "33600/33600 [==============================] - 0s - loss: 6.0017 - acc: 0.6243     \n",
      "Epoch 4/10\n",
      "33600/33600 [==============================] - 0s - loss: 5.3242 - acc: 0.6672     \n",
      "Epoch 5/10\n",
      "33600/33600 [==============================] - 0s - loss: 5.0490 - acc: 0.6845     \n",
      "Epoch 6/10\n",
      "33600/33600 [==============================] - 0s - loss: 5.0329 - acc: 0.6855     \n",
      "Epoch 7/10\n",
      "33600/33600 [==============================] - 0s - loss: 4.7857 - acc: 0.7010     \n",
      "Epoch 8/10\n",
      "33600/33600 [==============================] - 0s - loss: 4.5789 - acc: 0.7139     \n",
      "Epoch 9/10\n",
      "33600/33600 [==============================] - 0s - loss: 3.9991 - acc: 0.7495     \n",
      "Epoch 10/10\n",
      "33600/33600 [==============================] - 0s - loss: 3.8513 - acc: 0.7587     \n",
      "8192/8400 [============================>.] - ETA: 0s"
     ]
    },
    {
     "data": {
      "text/plain": [
       "[3.1842276305244082, 0.80059523809523814]"
      ]
     },
     "execution_count": 20,
     "metadata": {},
     "output_type": "execute_result"
    }
   ],
   "source": [
    "nn_model = add_layers_to_model(nn_model, 128)\n",
    "nn_model.fit(feat_train, label_train, nb_epoch=10, batch_size=512)\n",
    "nn_model.evaluate(feat_test, label_test)"
   ]
  },
  {
   "cell_type": "code",
   "execution_count": 21,
   "metadata": {
    "collapsed": false
   },
   "outputs": [
    {
     "name": "stdout",
     "output_type": "stream",
     "text": [
      "Epoch 1/10\n",
      "33600/33600 [==============================] - 0s - loss: 13.2736 - acc: 0.1734     \n",
      "Epoch 2/10\n",
      "33600/33600 [==============================] - 0s - loss: 10.2589 - acc: 0.3599     \n",
      "Epoch 3/10\n",
      "33600/33600 [==============================] - 0s - loss: 8.7301 - acc: 0.4558     \n",
      "Epoch 4/10\n",
      "33600/33600 [==============================] - 0s - loss: 7.8942 - acc: 0.5079     \n",
      "Epoch 5/10\n",
      "33600/33600 [==============================] - 0s - loss: 7.2247 - acc: 0.5495     \n",
      "Epoch 6/10\n",
      "33600/33600 [==============================] - 0s - loss: 6.7911 - acc: 0.5763     \n",
      "Epoch 7/10\n",
      "33600/33600 [==============================] - 0s - loss: 6.4368 - acc: 0.5984     \n",
      "Epoch 8/10\n",
      "33600/33600 [==============================] - 0s - loss: 6.1859 - acc: 0.6141     \n",
      "Epoch 9/10\n",
      "33600/33600 [==============================] - 0s - loss: 5.7311 - acc: 0.6426     \n",
      "Epoch 10/10\n",
      "33600/33600 [==============================] - 0s - loss: 5.6883 - acc: 0.6456     \n",
      "8352/8400 [============================>.] - ETA: 0s"
     ]
    },
    {
     "data": {
      "text/plain": [
       "[4.6063342044467017, 0.71369047619047621]"
      ]
     },
     "execution_count": 21,
     "metadata": {},
     "output_type": "execute_result"
    }
   ],
   "source": [
    "nn_model = add_layers_to_model(nn_model, 64)\n",
    "nn_model.fit(feat_train, label_train, nb_epoch=10, batch_size=512)\n",
    "nn_model.evaluate(feat_test, label_test)"
   ]
  },
  {
   "cell_type": "code",
   "execution_count": 22,
   "metadata": {
    "collapsed": false
   },
   "outputs": [
    {
     "name": "stdout",
     "output_type": "stream",
     "text": [
      "Epoch 1/10\n",
      "33600/33600 [==============================] - 0s - loss: 13.5077 - acc: 0.1591     \n",
      "Epoch 2/10\n",
      "33600/33600 [==============================] - 0s - loss: 12.0439 - acc: 0.2505     \n",
      "Epoch 3/10\n",
      "33600/33600 [==============================] - 0s - loss: 11.1890 - acc: 0.3037     \n",
      "Epoch 4/10\n",
      "33600/33600 [==============================] - 0s - loss: 10.2070 - acc: 0.3649     \n",
      "Epoch 5/10\n",
      "33600/33600 [==============================] - 0s - loss: 9.1518 - acc: 0.4301     \n",
      "Epoch 6/10\n",
      "33600/33600 [==============================] - 0s - loss: 8.2534 - acc: 0.4860     \n",
      "Epoch 7/10\n",
      "33600/33600 [==============================] - 0s - loss: 7.7523 - acc: 0.5174     \n",
      "Epoch 8/10\n",
      "33600/33600 [==============================] - 0s - loss: 7.4275 - acc: 0.5375     \n",
      "Epoch 9/10\n",
      "33600/33600 [==============================] - 0s - loss: 7.1618 - acc: 0.5545     \n",
      "Epoch 10/10\n",
      "33600/33600 [==============================] - 0s - loss: 7.1171 - acc: 0.5571     \n",
      "8384/8400 [============================>.] - ETA: 0s"
     ]
    },
    {
     "data": {
      "text/plain": [
       "[5.7054469517299111, 0.64511904761904759]"
      ]
     },
     "execution_count": 22,
     "metadata": {},
     "output_type": "execute_result"
    }
   ],
   "source": [
    "nn_model = add_layers_to_model(nn_model, 128)\n",
    "nn_model.fit(feat_train, label_train, nb_epoch=10, batch_size=512)\n",
    "nn_model.evaluate(feat_test, label_test)"
   ]
  },
  {
   "cell_type": "markdown",
   "metadata": {},
   "source": [
    "It improves to a certain point, adding more layers after that decreases accuracy"
   ]
  },
  {
   "cell_type": "markdown",
   "metadata": {},
   "source": [
    "## Convolution"
   ]
  },
  {
   "cell_type": "code",
   "execution_count": 23,
   "metadata": {
    "collapsed": false
   },
   "outputs": [],
   "source": [
    "feat_train = feat_train.reshape((feat_train.shape[0], 1, 28, 28))\n",
    "feat_test = feat_test.reshape((feat_test.shape[0], 1, 28, 28))"
   ]
  },
  {
   "cell_type": "code",
   "execution_count": 24,
   "metadata": {
    "collapsed": false
   },
   "outputs": [],
   "source": [
    "def create_convoluted_keras_model():\n",
    "    model = Sequential()\n",
    "    model.add(Convolution2D(nb_filter=32, nb_row=3, nb_col=3, border_mode='valid', input_shape=(1, 28, 28)))\n",
    "    model.add(Activation('relu'))\n",
    "    model.add(Dropout(0.5))\n",
    "    model.add(Flatten())\n",
    "    model.add(Dense(100))\n",
    "    model.add(Activation('relu'))\n",
    "    model.add(Dropout(0.5))\n",
    "    model.add(Dense(10))\n",
    "    model.add(Activation('softmax'))\n",
    "    model.compile(loss='categorical_crossentropy', optimizer='sgd', metrics=[\"accuracy\"])\n",
    "    return model"
   ]
  },
  {
   "cell_type": "code",
   "execution_count": 25,
   "metadata": {
    "collapsed": false
   },
   "outputs": [
    {
     "name": "stdout",
     "output_type": "stream",
     "text": [
      "Epoch 1/10\n",
      "33600/33600 [==============================] - 1s - loss: 3.1648 - acc: 0.6228     \n",
      "Epoch 2/10\n",
      "33600/33600 [==============================] - 1s - loss: 0.5897 - acc: 0.8201     \n",
      "Epoch 3/10\n",
      "33600/33600 [==============================] - 1s - loss: 0.4498 - acc: 0.8623     \n",
      "Epoch 4/10\n",
      "33600/33600 [==============================] - 1s - loss: 0.3759 - acc: 0.8854     \n",
      "Epoch 5/10\n",
      "33600/33600 [==============================] - 1s - loss: 0.3298 - acc: 0.9011     \n",
      "Epoch 6/10\n",
      "33600/33600 [==============================] - 1s - loss: 0.3148 - acc: 0.9030     \n",
      "Epoch 7/10\n",
      "33600/33600 [==============================] - 1s - loss: 0.2794 - acc: 0.9154     \n",
      "Epoch 8/10\n",
      "33600/33600 [==============================] - 1s - loss: 0.2577 - acc: 0.9212     \n",
      "Epoch 9/10\n",
      "33600/33600 [==============================] - 1s - loss: 0.2425 - acc: 0.9268     \n",
      "Epoch 10/10\n",
      "33600/33600 [==============================] - 1s - loss: 0.2276 - acc: 0.9296     \n",
      "8320/8400 [============================>.] - ETA: 0s"
     ]
    },
    {
     "data": {
      "text/plain": [
       "[0.10246478169358203, 0.96892857142857147]"
      ]
     },
     "execution_count": 25,
     "metadata": {},
     "output_type": "execute_result"
    }
   ],
   "source": [
    "nn_model = create_convoluted_keras_model()\n",
    "nn_model.fit(feat_train, label_train, nb_epoch=10, batch_size=512)\n",
    "nn_model.evaluate(feat_test, label_test)"
   ]
  },
  {
   "cell_type": "code",
   "execution_count": 26,
   "metadata": {
    "collapsed": false
   },
   "outputs": [],
   "source": [
    "def create_convoluted_keras_model():\n",
    "    model = Sequential()\n",
    "    model.add(Convolution2D(nb_filter=32, nb_row=3, nb_col=3, border_mode='valid', input_shape=(1, 28, 28)))\n",
    "    model.add(Activation('relu'))\n",
    "    model.add(Dropout(0.5))\n",
    "    model.add(Flatten())\n",
    "    model.add(Dense(100))\n",
    "    model.add(Activation('relu'))\n",
    "    model.add(Dropout(0.5))\n",
    "    model.add(Dense(100))\n",
    "    model.add(Activation('relu'))\n",
    "    model.add(Dropout(0.5))\n",
    "    model.add(Dense(10))\n",
    "    model.add(Activation('softmax'))\n",
    "    model.compile(loss='categorical_crossentropy', optimizer='sgd', metrics=[\"accuracy\"])\n",
    "    return model"
   ]
  },
  {
   "cell_type": "code",
   "execution_count": 27,
   "metadata": {
    "collapsed": false
   },
   "outputs": [
    {
     "name": "stdout",
     "output_type": "stream",
     "text": [
      "Epoch 1/10\n",
      "33600/33600 [==============================] - 2s - loss: 7.4241 - acc: 0.2912     \n",
      "Epoch 2/10\n",
      "33600/33600 [==============================] - 1s - loss: 1.4434 - acc: 0.5213     \n",
      "Epoch 3/10\n",
      "33600/33600 [==============================] - 1s - loss: 1.0646 - acc: 0.6550     \n",
      "Epoch 4/10\n",
      "33600/33600 [==============================] - 1s - loss: 0.8571 - acc: 0.7334     \n",
      "Epoch 5/10\n",
      "33600/33600 [==============================] - 1s - loss: 0.7178 - acc: 0.7812     \n",
      "Epoch 6/10\n",
      "33600/33600 [==============================] - 1s - loss: 0.6362 - acc: 0.8082     \n",
      "Epoch 7/10\n",
      "33600/33600 [==============================] - 1s - loss: 0.5691 - acc: 0.8323     \n",
      "Epoch 8/10\n",
      "33600/33600 [==============================] - 1s - loss: 0.5127 - acc: 0.8482     \n",
      "Epoch 9/10\n",
      "33600/33600 [==============================] - 1s - loss: 0.4733 - acc: 0.8607     \n",
      "Epoch 10/10\n",
      "33600/33600 [==============================] - 1s - loss: 0.4455 - acc: 0.8720     \n",
      "8400/8400 [==============================] - 0s     \n"
     ]
    },
    {
     "data": {
      "text/plain": [
       "[0.19957109306539808, 0.94904761904761903]"
      ]
     },
     "execution_count": 27,
     "metadata": {},
     "output_type": "execute_result"
    }
   ],
   "source": [
    "nn_model = create_convoluted_keras_model()\n",
    "nn_model.fit(feat_train, label_train, nb_epoch=10, batch_size=512)\n",
    "nn_model.evaluate(feat_test, label_test)"
   ]
  },
  {
   "cell_type": "code",
   "execution_count": 28,
   "metadata": {
    "collapsed": true
   },
   "outputs": [],
   "source": [
    "def create_convoluted_keras_model():\n",
    "    model = Sequential()\n",
    "    model.add(Convolution2D(nb_filter=32, nb_row=3, nb_col=3, border_mode='valid', input_shape=(1, 28, 28)))\n",
    "    model.add(Activation('relu'))\n",
    "    model.add(Convolution2D(nb_filter=32, nb_row=3, nb_col=3, border_mode='valid', input_shape=(1, 28, 28)))\n",
    "    model.add(Activation('relu'))\n",
    "    model.add(Dropout(0.5))\n",
    "    model.add(Flatten())\n",
    "    model.add(Dense(100))\n",
    "    model.add(Activation('relu'))\n",
    "    model.add(Dropout(0.5))\n",
    "    model.add(Dense(100))\n",
    "    model.add(Activation('relu'))\n",
    "    model.add(Dropout(0.5))\n",
    "    model.add(Dense(10))\n",
    "    model.add(Activation('softmax'))\n",
    "    model.compile(loss='categorical_crossentropy', optimizer='sgd', metrics=[\"accuracy\"])\n",
    "    return model"
   ]
  },
  {
   "cell_type": "code",
   "execution_count": 29,
   "metadata": {
    "collapsed": false
   },
   "outputs": [
    {
     "name": "stdout",
     "output_type": "stream",
     "text": [
      "Epoch 1/10\n",
      "33600/33600 [==============================] - 5s - loss: 3.3380 - acc: 0.3097     \n",
      "Epoch 2/10\n",
      "33600/33600 [==============================] - 5s - loss: 1.3526 - acc: 0.5514     \n",
      "Epoch 3/10\n",
      "33600/33600 [==============================] - 5s - loss: 0.9931 - acc: 0.6802     \n",
      "Epoch 4/10\n",
      "33600/33600 [==============================] - 5s - loss: 0.7655 - acc: 0.7596     \n",
      "Epoch 5/10\n",
      "33600/33600 [==============================] - 5s - loss: 0.6316 - acc: 0.8057     \n",
      "Epoch 6/10\n",
      "33600/33600 [==============================] - 5s - loss: 0.5516 - acc: 0.8337     \n",
      "Epoch 7/10\n",
      "33600/33600 [==============================] - 5s - loss: 0.4905 - acc: 0.8539     \n",
      "Epoch 8/10\n",
      "33600/33600 [==============================] - 5s - loss: 0.4424 - acc: 0.8719     \n",
      "Epoch 9/10\n",
      "33600/33600 [==============================] - 5s - loss: 0.4091 - acc: 0.8835     \n",
      "Epoch 10/10\n",
      "33600/33600 [==============================] - 5s - loss: 0.3791 - acc: 0.8902     \n",
      "8400/8400 [==============================] - 0s     \n"
     ]
    },
    {
     "data": {
      "text/plain": [
       "[0.12983495716094262, 0.96785714285714286]"
      ]
     },
     "execution_count": 29,
     "metadata": {},
     "output_type": "execute_result"
    }
   ],
   "source": [
    "nn_model = create_convoluted_keras_model()\n",
    "nn_model.fit(feat_train, label_train, nb_epoch=10, batch_size=512)\n",
    "nn_model.evaluate(feat_test, label_test)"
   ]
  },
  {
   "cell_type": "code",
   "execution_count": 30,
   "metadata": {
    "collapsed": true
   },
   "outputs": [],
   "source": [
    "def create_convoluted_keras_model():\n",
    "    model = Sequential()\n",
    "    model.add(Convolution2D(nb_filter=32, nb_row=3, nb_col=3, border_mode='valid', input_shape=(1, 28, 28)))\n",
    "    model.add(Activation('relu'))\n",
    "    model.add(Convolution2D(nb_filter=32, nb_row=3, nb_col=3, border_mode='valid', input_shape=(1, 28, 28)))\n",
    "    model.add(Activation('relu'))\n",
    "    model.add(MaxPooling2D(pool_size=(3, 3)))\n",
    "    model.add(Dropout(0.5))\n",
    "    model.add(Flatten())\n",
    "    model.add(Dense(100))\n",
    "    model.add(Activation('relu'))\n",
    "    model.add(Dropout(0.5))\n",
    "    model.add(Dense(100))\n",
    "    model.add(Activation('relu'))\n",
    "    model.add(Dropout(0.5))\n",
    "    model.add(Dense(10))\n",
    "    model.add(Activation('softmax'))\n",
    "    model.compile(loss='categorical_crossentropy', optimizer='sgd', metrics=[\"accuracy\"])\n",
    "    return model"
   ]
  },
  {
   "cell_type": "code",
   "execution_count": 31,
   "metadata": {
    "collapsed": false
   },
   "outputs": [
    {
     "name": "stdout",
     "output_type": "stream",
     "text": [
      "Epoch 1/10\n",
      "33600/33600 [==============================] - 5s - loss: 7.0849 - acc: 0.1660     \n",
      "Epoch 2/10\n",
      "33600/33600 [==============================] - 5s - loss: 2.0466 - acc: 0.2637     \n",
      "Epoch 3/10\n",
      "33600/33600 [==============================] - 5s - loss: 1.8222 - acc: 0.3551     \n",
      "Epoch 4/10\n",
      "33600/33600 [==============================] - 5s - loss: 1.5986 - acc: 0.4392     \n",
      "Epoch 5/10\n",
      "33600/33600 [==============================] - 5s - loss: 1.4155 - acc: 0.5110     \n",
      "Epoch 6/10\n",
      "33600/33600 [==============================] - 5s - loss: 1.2642 - acc: 0.5609     \n",
      "Epoch 7/10\n",
      "33600/33600 [==============================] - 5s - loss: 1.1372 - acc: 0.6134     \n",
      "Epoch 8/10\n",
      "33600/33600 [==============================] - 5s - loss: 1.0216 - acc: 0.6585     \n",
      "Epoch 9/10\n",
      "33600/33600 [==============================] - 5s - loss: 0.9471 - acc: 0.6875     \n",
      "Epoch 10/10\n",
      "33600/33600 [==============================] - 5s - loss: 0.8653 - acc: 0.7167     \n",
      "8384/8400 [============================>.] - ETA: 0s"
     ]
    },
    {
     "data": {
      "text/plain": [
       "[0.36183496790272851, 0.9302380952380952]"
      ]
     },
     "execution_count": 31,
     "metadata": {},
     "output_type": "execute_result"
    }
   ],
   "source": [
    "nn_model = create_convoluted_keras_model()\n",
    "nn_model.fit(feat_train, label_train, nb_epoch=10, batch_size=512)\n",
    "nn_model.evaluate(feat_test, label_test)"
   ]
  },
  {
   "cell_type": "code",
   "execution_count": 34,
   "metadata": {
    "collapsed": true
   },
   "outputs": [],
   "source": [
    "def create_convoluted_keras_model():\n",
    "    model = Sequential()\n",
    "    model.add(Convolution2D(nb_filter=64, nb_row=3, nb_col=3, border_mode='valid', input_shape=(1, 28, 28)))\n",
    "    model.add(Activation('relu'))\n",
    "    model.add(Convolution2D(nb_filter=64, nb_row=3, nb_col=3, border_mode='valid', input_shape=(1, 28, 28)))\n",
    "    model.add(Activation('relu'))\n",
    "    model.add(Dropout(0.5))\n",
    "    model.add(Flatten())\n",
    "    model.add(Dense(100))\n",
    "    model.add(Activation('relu'))\n",
    "    model.add(Dropout(0.5))\n",
    "    model.add(Dense(100))\n",
    "    model.add(Activation('relu'))\n",
    "    model.add(Dropout(0.5))\n",
    "    model.add(Dense(10))\n",
    "    model.add(Activation('softmax'))\n",
    "    model.compile(loss='categorical_crossentropy', optimizer='sgd', metrics=[\"accuracy\"])\n",
    "    return model"
   ]
  },
  {
   "cell_type": "code",
   "execution_count": 35,
   "metadata": {
    "collapsed": false
   },
   "outputs": [
    {
     "name": "stdout",
     "output_type": "stream",
     "text": [
      "Epoch 1/10\n",
      "33600/33600 [==============================] - 7s - loss: 2.9236 - acc: 0.4223     \n",
      "Epoch 2/10\n",
      "33600/33600 [==============================] - 7s - loss: 0.9620 - acc: 0.6864     \n",
      "Epoch 3/10\n",
      "33600/33600 [==============================] - 7s - loss: 0.6897 - acc: 0.7803     \n",
      "Epoch 4/10\n",
      "33600/33600 [==============================] - 7s - loss: 0.5495 - acc: 0.8315     \n",
      "Epoch 5/10\n",
      "33600/33600 [==============================] - 7s - loss: 0.4538 - acc: 0.8606     \n",
      "Epoch 6/10\n",
      "33600/33600 [==============================] - 7s - loss: 0.3954 - acc: 0.8815     \n",
      "Epoch 7/10\n",
      "33600/33600 [==============================] - 7s - loss: 0.3577 - acc: 0.8939     \n",
      "Epoch 8/10\n",
      "33600/33600 [==============================] - 7s - loss: 0.3267 - acc: 0.9040     \n",
      "Epoch 9/10\n",
      "33600/33600 [==============================] - 7s - loss: 0.3112 - acc: 0.9081     \n",
      "Epoch 10/10\n",
      "33600/33600 [==============================] - 7s - loss: 0.2816 - acc: 0.9178     \n",
      "8384/8400 [============================>.] - ETA: 0s"
     ]
    },
    {
     "data": {
      "text/plain": [
       "[0.095447766229044648, 0.97380952380952379]"
      ]
     },
     "execution_count": 35,
     "metadata": {},
     "output_type": "execute_result"
    }
   ],
   "source": [
    "nn_model = create_convoluted_keras_model()\n",
    "nn_model.fit(feat_train, label_train, nb_epoch=10, batch_size=512)\n",
    "nn_model.evaluate(feat_test, label_test)"
   ]
  },
  {
   "cell_type": "markdown",
   "metadata": {
    "collapsed": true
   },
   "source": [
    "## best result with more epochs"
   ]
  },
  {
   "cell_type": "code",
   "execution_count": 36,
   "metadata": {
    "collapsed": true
   },
   "outputs": [],
   "source": [
    "def create_convoluted_keras_model():\n",
    "    model = Sequential()\n",
    "    model.add(Convolution2D(nb_filter=64, nb_row=3, nb_col=3, border_mode='valid', input_shape=(1, 28, 28)))\n",
    "    model.add(Activation('relu'))\n",
    "    model.add(Convolution2D(nb_filter=64, nb_row=3, nb_col=3, border_mode='valid', input_shape=(1, 28, 28)))\n",
    "    model.add(Activation('relu'))\n",
    "    model.add(Dropout(0.5))\n",
    "    model.add(Flatten())\n",
    "    model.add(Dense(100))\n",
    "    model.add(Activation('relu'))\n",
    "    model.add(Dropout(0.5))\n",
    "    model.add(Dense(100))\n",
    "    model.add(Activation('relu'))\n",
    "    model.add(Dropout(0.5))\n",
    "    model.add(Dense(10))\n",
    "    model.add(Activation('softmax'))\n",
    "    model.compile(loss='categorical_crossentropy', optimizer='sgd', metrics=[\"accuracy\"])\n",
    "    return model"
   ]
  },
  {
   "cell_type": "code",
   "execution_count": 37,
   "metadata": {
    "collapsed": false
   },
   "outputs": [
    {
     "name": "stdout",
     "output_type": "stream",
     "text": [
      "Epoch 1/200\n",
      "33600/33600 [==============================] - 7s - loss: 2.8217 - acc: 0.3685     \n",
      "Epoch 2/200\n",
      "33600/33600 [==============================] - 7s - loss: 1.0524 - acc: 0.6470     \n",
      "Epoch 3/200\n",
      "33600/33600 [==============================] - 7s - loss: 0.7385 - acc: 0.7612     \n",
      "Epoch 4/200\n",
      "33600/33600 [==============================] - 7s - loss: 0.5743 - acc: 0.8209     \n",
      "Epoch 5/200\n",
      "33600/33600 [==============================] - 7s - loss: 0.4638 - acc: 0.8570     \n",
      "Epoch 6/200\n",
      "33600/33600 [==============================] - 7s - loss: 0.4058 - acc: 0.8749     \n",
      "Epoch 7/200\n",
      "33600/33600 [==============================] - 7s - loss: 0.3620 - acc: 0.8921     \n",
      "Epoch 8/200\n",
      "33600/33600 [==============================] - 7s - loss: 0.3330 - acc: 0.9018     \n",
      "Epoch 9/200\n",
      "33600/33600 [==============================] - 7s - loss: 0.3044 - acc: 0.9095     \n",
      "Epoch 10/200\n",
      "33600/33600 [==============================] - 7s - loss: 0.2802 - acc: 0.9176     \n",
      "Epoch 11/200\n",
      "33600/33600 [==============================] - 7s - loss: 0.2612 - acc: 0.9240     \n",
      "Epoch 12/200\n",
      "33600/33600 [==============================] - 7s - loss: 0.2452 - acc: 0.9294     \n",
      "Epoch 13/200\n",
      "33600/33600 [==============================] - 7s - loss: 0.2385 - acc: 0.9301     \n",
      "Epoch 14/200\n",
      "33600/33600 [==============================] - 7s - loss: 0.2229 - acc: 0.9353     \n",
      "Epoch 15/200\n",
      "33600/33600 [==============================] - 7s - loss: 0.2136 - acc: 0.9383     \n",
      "Epoch 16/200\n",
      "33600/33600 [==============================] - 7s - loss: 0.2065 - acc: 0.9396     \n",
      "Epoch 17/200\n",
      "33600/33600 [==============================] - 7s - loss: 0.1958 - acc: 0.9433     \n",
      "Epoch 18/200\n",
      "33600/33600 [==============================] - 7s - loss: 0.1931 - acc: 0.9456     \n",
      "Epoch 19/200\n",
      "33600/33600 [==============================] - 7s - loss: 0.1866 - acc: 0.9466     \n",
      "Epoch 20/200\n",
      "33600/33600 [==============================] - 7s - loss: 0.1759 - acc: 0.9486     \n",
      "Epoch 21/200\n",
      "33600/33600 [==============================] - 7s - loss: 0.1709 - acc: 0.9532     \n",
      "Epoch 22/200\n",
      "33600/33600 [==============================] - 7s - loss: 0.1648 - acc: 0.9525     \n",
      "Epoch 23/200\n",
      "33600/33600 [==============================] - 7s - loss: 0.1609 - acc: 0.9542     \n",
      "Epoch 24/200\n",
      "33600/33600 [==============================] - 7s - loss: 0.1559 - acc: 0.9563     \n",
      "Epoch 25/200\n",
      "33600/33600 [==============================] - 7s - loss: 0.1485 - acc: 0.9574     \n",
      "Epoch 26/200\n",
      "33600/33600 [==============================] - 7s - loss: 0.1457 - acc: 0.9581     \n",
      "Epoch 27/200\n",
      "33600/33600 [==============================] - 7s - loss: 0.1429 - acc: 0.9600     \n",
      "Epoch 28/200\n",
      "33600/33600 [==============================] - 7s - loss: 0.1351 - acc: 0.9600     \n",
      "Epoch 29/200\n",
      "33600/33600 [==============================] - 7s - loss: 0.1310 - acc: 0.9627     \n",
      "Epoch 30/200\n",
      "33600/33600 [==============================] - 7s - loss: 0.1312 - acc: 0.9636     \n",
      "Epoch 31/200\n",
      "33600/33600 [==============================] - 7s - loss: 0.1302 - acc: 0.9632     \n",
      "Epoch 32/200\n",
      "33600/33600 [==============================] - 7s - loss: 0.1241 - acc: 0.9647     \n",
      "Epoch 33/200\n",
      "33600/33600 [==============================] - 7s - loss: 0.1266 - acc: 0.9640     \n",
      "Epoch 34/200\n",
      "33600/33600 [==============================] - 7s - loss: 0.1264 - acc: 0.9633     \n",
      "Epoch 35/200\n",
      "33600/33600 [==============================] - 7s - loss: 0.1187 - acc: 0.9664     \n",
      "Epoch 36/200\n",
      "33600/33600 [==============================] - 7s - loss: 0.1198 - acc: 0.9661     \n",
      "Epoch 37/200\n",
      "33600/33600 [==============================] - 7s - loss: 0.1119 - acc: 0.9679     \n",
      "Epoch 38/200\n",
      "33600/33600 [==============================] - 7s - loss: 0.1122 - acc: 0.9680     \n",
      "Epoch 39/200\n",
      "33600/33600 [==============================] - 7s - loss: 0.1101 - acc: 0.9686     \n",
      "Epoch 40/200\n",
      "33600/33600 [==============================] - 7s - loss: 0.1069 - acc: 0.9689     \n",
      "Epoch 41/200\n",
      "33600/33600 [==============================] - 7s - loss: 0.1029 - acc: 0.9708     \n",
      "Epoch 42/200\n",
      "33600/33600 [==============================] - 7s - loss: 0.1018 - acc: 0.9722     \n",
      "Epoch 43/200\n",
      "33600/33600 [==============================] - 7s - loss: 0.1008 - acc: 0.9703     \n",
      "Epoch 44/200\n",
      "33600/33600 [==============================] - 7s - loss: 0.0952 - acc: 0.9732     \n",
      "Epoch 45/200\n",
      "33600/33600 [==============================] - 7s - loss: 0.0996 - acc: 0.9717     \n",
      "Epoch 46/200\n",
      "33600/33600 [==============================] - 7s - loss: 0.0965 - acc: 0.9725     \n",
      "Epoch 47/200\n",
      "33600/33600 [==============================] - 7s - loss: 0.0944 - acc: 0.9724     \n",
      "Epoch 48/200\n",
      "33600/33600 [==============================] - 7s - loss: 0.0929 - acc: 0.9734     \n",
      "Epoch 49/200\n",
      "33600/33600 [==============================] - 7s - loss: 0.0906 - acc: 0.9746     \n",
      "Epoch 50/200\n",
      "33600/33600 [==============================] - 7s - loss: 0.0900 - acc: 0.9746     \n",
      "Epoch 51/200\n",
      "33600/33600 [==============================] - 7s - loss: 0.0938 - acc: 0.9731     \n",
      "Epoch 52/200\n",
      "33600/33600 [==============================] - 7s - loss: 0.0889 - acc: 0.9744     \n",
      "Epoch 53/200\n",
      "33600/33600 [==============================] - 7s - loss: 0.0905 - acc: 0.9743     \n",
      "Epoch 54/200\n",
      "33600/33600 [==============================] - 7s - loss: 0.0824 - acc: 0.9763     \n",
      "Epoch 55/200\n",
      "33600/33600 [==============================] - 7s - loss: 0.0857 - acc: 0.9749     \n",
      "Epoch 56/200\n",
      "33600/33600 [==============================] - 7s - loss: 0.0849 - acc: 0.9755     \n",
      "Epoch 57/200\n",
      "33600/33600 [==============================] - 7s - loss: 0.0821 - acc: 0.9768     \n",
      "Epoch 58/200\n",
      "33600/33600 [==============================] - 7s - loss: 0.0842 - acc: 0.9754     \n",
      "Epoch 59/200\n",
      "33600/33600 [==============================] - 7s - loss: 0.0774 - acc: 0.9776     \n",
      "Epoch 60/200\n",
      "33600/33600 [==============================] - 7s - loss: 0.0780 - acc: 0.9763     \n",
      "Epoch 61/200\n",
      "33600/33600 [==============================] - 7s - loss: 0.0769 - acc: 0.9786     \n",
      "Epoch 62/200\n",
      "33600/33600 [==============================] - 7s - loss: 0.0774 - acc: 0.9770     \n",
      "Epoch 63/200\n",
      "33600/33600 [==============================] - 7s - loss: 0.0744 - acc: 0.9788     \n",
      "Epoch 64/200\n",
      "33600/33600 [==============================] - 7s - loss: 0.0813 - acc: 0.9769     \n",
      "Epoch 65/200\n",
      "33600/33600 [==============================] - 7s - loss: 0.0768 - acc: 0.9785     \n",
      "Epoch 66/200\n",
      "33600/33600 [==============================] - 7s - loss: 0.0715 - acc: 0.9783     \n",
      "Epoch 67/200\n",
      "33600/33600 [==============================] - 7s - loss: 0.0712 - acc: 0.9796     \n",
      "Epoch 68/200\n",
      "33600/33600 [==============================] - 7s - loss: 0.0718 - acc: 0.9790     \n",
      "Epoch 69/200\n",
      "33600/33600 [==============================] - 7s - loss: 0.0719 - acc: 0.9789     \n",
      "Epoch 70/200\n",
      "33600/33600 [==============================] - 7s - loss: 0.0677 - acc: 0.9801     \n",
      "Epoch 71/200\n",
      "33600/33600 [==============================] - 7s - loss: 0.0655 - acc: 0.9813     \n",
      "Epoch 72/200\n",
      "33600/33600 [==============================] - 7s - loss: 0.0664 - acc: 0.9810     \n",
      "Epoch 73/200\n",
      "33600/33600 [==============================] - 7s - loss: 0.0667 - acc: 0.9799     \n",
      "Epoch 74/200\n",
      "33600/33600 [==============================] - 7s - loss: 0.0669 - acc: 0.9810     \n",
      "Epoch 75/200\n",
      "33600/33600 [==============================] - 7s - loss: 0.0625 - acc: 0.9812     \n",
      "Epoch 76/200\n",
      "33600/33600 [==============================] - 7s - loss: 0.0639 - acc: 0.9821     \n",
      "Epoch 77/200\n",
      "33600/33600 [==============================] - 7s - loss: 0.0604 - acc: 0.9823     \n",
      "Epoch 78/200\n",
      "33600/33600 [==============================] - 7s - loss: 0.0610 - acc: 0.9819     \n",
      "Epoch 79/200\n",
      "33600/33600 [==============================] - 7s - loss: 0.0628 - acc: 0.9822     \n",
      "Epoch 80/200\n",
      "33600/33600 [==============================] - 7s - loss: 0.0617 - acc: 0.9812     \n",
      "Epoch 81/200\n",
      "33600/33600 [==============================] - 7s - loss: 0.0591 - acc: 0.9828     \n",
      "Epoch 82/200\n",
      "33600/33600 [==============================] - 7s - loss: 0.0593 - acc: 0.9826     \n",
      "Epoch 83/200\n",
      "33600/33600 [==============================] - 7s - loss: 0.0575 - acc: 0.9829     \n",
      "Epoch 84/200\n",
      "33600/33600 [==============================] - 7s - loss: 0.0584 - acc: 0.9831     \n",
      "Epoch 85/200\n",
      "33600/33600 [==============================] - 7s - loss: 0.0555 - acc: 0.9836     \n",
      "Epoch 86/200\n",
      "33600/33600 [==============================] - 7s - loss: 0.0563 - acc: 0.9831     \n",
      "Epoch 87/200\n",
      "33600/33600 [==============================] - 7s - loss: 0.0560 - acc: 0.9830     \n",
      "Epoch 88/200\n",
      "33600/33600 [==============================] - 7s - loss: 0.0571 - acc: 0.9842     \n",
      "Epoch 89/200\n",
      "33600/33600 [==============================] - 7s - loss: 0.0565 - acc: 0.9835     \n",
      "Epoch 90/200\n",
      "33600/33600 [==============================] - 7s - loss: 0.0573 - acc: 0.9832     \n",
      "Epoch 91/200\n",
      "33600/33600 [==============================] - 7s - loss: 0.0537 - acc: 0.9848     \n",
      "Epoch 92/200\n",
      "33600/33600 [==============================] - 7s - loss: 0.0558 - acc: 0.9833     \n",
      "Epoch 93/200\n",
      "33600/33600 [==============================] - 7s - loss: 0.0560 - acc: 0.9838     \n",
      "Epoch 94/200\n",
      "33600/33600 [==============================] - 7s - loss: 0.0521 - acc: 0.9847     \n",
      "Epoch 95/200\n",
      "33600/33600 [==============================] - 7s - loss: 0.0521 - acc: 0.9843     \n",
      "Epoch 96/200\n",
      "33600/33600 [==============================] - 7s - loss: 0.0513 - acc: 0.9848     \n",
      "Epoch 97/200\n",
      "33600/33600 [==============================] - 7s - loss: 0.0504 - acc: 0.9850     \n",
      "Epoch 98/200\n",
      "33600/33600 [==============================] - 7s - loss: 0.0522 - acc: 0.9849     \n",
      "Epoch 99/200\n",
      "33600/33600 [==============================] - 7s - loss: 0.0528 - acc: 0.9842     \n",
      "Epoch 100/200\n",
      "33600/33600 [==============================] - 7s - loss: 0.0512 - acc: 0.9849     \n",
      "Epoch 101/200\n",
      "33600/33600 [==============================] - 7s - loss: 0.0500 - acc: 0.9858     \n",
      "Epoch 102/200\n",
      "33600/33600 [==============================] - 7s - loss: 0.0452 - acc: 0.9862     \n",
      "Epoch 103/200\n",
      "33600/33600 [==============================] - 7s - loss: 0.0504 - acc: 0.9853     \n",
      "Epoch 104/200\n",
      "33600/33600 [==============================] - 7s - loss: 0.0513 - acc: 0.9854     \n",
      "Epoch 105/200\n",
      "33600/33600 [==============================] - 7s - loss: 0.0442 - acc: 0.9862     \n",
      "Epoch 106/200\n",
      "33600/33600 [==============================] - 7s - loss: 0.0471 - acc: 0.9861     \n",
      "Epoch 107/200\n",
      "33600/33600 [==============================] - 7s - loss: 0.0466 - acc: 0.9869     \n",
      "Epoch 108/200\n",
      "33600/33600 [==============================] - 7s - loss: 0.0480 - acc: 0.9861     \n",
      "Epoch 109/200\n",
      "33600/33600 [==============================] - 7s - loss: 0.0475 - acc: 0.9855     \n",
      "Epoch 110/200\n",
      "33600/33600 [==============================] - 7s - loss: 0.0474 - acc: 0.9859     \n",
      "Epoch 111/200\n",
      "33600/33600 [==============================] - 7s - loss: 0.0469 - acc: 0.9864     \n",
      "Epoch 112/200\n",
      "33600/33600 [==============================] - 7s - loss: 0.0453 - acc: 0.9862     \n",
      "Epoch 113/200\n",
      "33600/33600 [==============================] - 7s - loss: 0.0478 - acc: 0.9865     \n",
      "Epoch 114/200\n",
      "33600/33600 [==============================] - 7s - loss: 0.0433 - acc: 0.9870     \n",
      "Epoch 115/200\n",
      "33600/33600 [==============================] - 7s - loss: 0.0413 - acc: 0.9875     \n",
      "Epoch 116/200\n",
      "33600/33600 [==============================] - 7s - loss: 0.0433 - acc: 0.9874     \n",
      "Epoch 117/200\n",
      "33600/33600 [==============================] - 7s - loss: 0.0441 - acc: 0.9871     \n",
      "Epoch 118/200\n",
      "33600/33600 [==============================] - 7s - loss: 0.0431 - acc: 0.9872     \n",
      "Epoch 119/200\n",
      "33600/33600 [==============================] - 7s - loss: 0.0439 - acc: 0.9877     \n",
      "Epoch 120/200\n",
      "33600/33600 [==============================] - 7s - loss: 0.0431 - acc: 0.9877     \n",
      "Epoch 121/200\n",
      "33600/33600 [==============================] - 7s - loss: 0.0424 - acc: 0.9874     \n",
      "Epoch 122/200\n",
      "33600/33600 [==============================] - 7s - loss: 0.0401 - acc: 0.9875     \n",
      "Epoch 123/200\n",
      "33600/33600 [==============================] - 7s - loss: 0.0401 - acc: 0.9882     \n",
      "Epoch 124/200\n",
      "33600/33600 [==============================] - 7s - loss: 0.0438 - acc: 0.9868     \n",
      "Epoch 125/200\n",
      "33600/33600 [==============================] - 7s - loss: 0.0408 - acc: 0.9885     \n",
      "Epoch 126/200\n",
      "33600/33600 [==============================] - 7s - loss: 0.0458 - acc: 0.9864     \n",
      "Epoch 127/200\n",
      "33600/33600 [==============================] - 7s - loss: 0.0431 - acc: 0.9872     \n",
      "Epoch 128/200\n",
      "33600/33600 [==============================] - 7s - loss: 0.0402 - acc: 0.9880     \n",
      "Epoch 129/200\n",
      "33600/33600 [==============================] - 7s - loss: 0.0360 - acc: 0.9896     \n",
      "Epoch 130/200\n",
      "33600/33600 [==============================] - 7s - loss: 0.0392 - acc: 0.9881     \n",
      "Epoch 131/200\n",
      "33600/33600 [==============================] - 7s - loss: 0.0421 - acc: 0.9877     \n",
      "Epoch 132/200\n",
      "33600/33600 [==============================] - 7s - loss: 0.0373 - acc: 0.9885     \n",
      "Epoch 133/200\n",
      "33600/33600 [==============================] - 7s - loss: 0.0386 - acc: 0.9888     \n",
      "Epoch 134/200\n",
      "33600/33600 [==============================] - 7s - loss: 0.0370 - acc: 0.9890     \n",
      "Epoch 135/200\n",
      "33600/33600 [==============================] - 7s - loss: 0.0392 - acc: 0.9889     \n",
      "Epoch 136/200\n",
      "33600/33600 [==============================] - 7s - loss: 0.0337 - acc: 0.9893     \n",
      "Epoch 137/200\n",
      "33600/33600 [==============================] - 7s - loss: 0.0382 - acc: 0.9889     \n",
      "Epoch 138/200\n",
      "33600/33600 [==============================] - 7s - loss: 0.0371 - acc: 0.9890     \n",
      "Epoch 139/200\n",
      "33600/33600 [==============================] - 7s - loss: 0.0366 - acc: 0.9894     \n",
      "Epoch 140/200\n",
      "33600/33600 [==============================] - 7s - loss: 0.0361 - acc: 0.9889     \n",
      "Epoch 141/200\n",
      "33600/33600 [==============================] - 7s - loss: 0.0389 - acc: 0.9886     \n",
      "Epoch 142/200\n",
      "33600/33600 [==============================] - 7s - loss: 0.0362 - acc: 0.9893     \n",
      "Epoch 143/200\n",
      "33600/33600 [==============================] - 7s - loss: 0.0358 - acc: 0.9896     \n",
      "Epoch 144/200\n",
      "33600/33600 [==============================] - 7s - loss: 0.0385 - acc: 0.9894     \n",
      "Epoch 145/200\n",
      "33600/33600 [==============================] - 7s - loss: 0.0351 - acc: 0.9896     \n",
      "Epoch 146/200\n",
      "33600/33600 [==============================] - 7s - loss: 0.0365 - acc: 0.9891     \n",
      "Epoch 147/200\n",
      "33600/33600 [==============================] - 7s - loss: 0.0353 - acc: 0.9893     \n",
      "Epoch 148/200\n",
      "33600/33600 [==============================] - 7s - loss: 0.0332 - acc: 0.9899     \n",
      "Epoch 149/200\n",
      "33600/33600 [==============================] - 7s - loss: 0.0357 - acc: 0.9899     \n",
      "Epoch 150/200\n",
      "33600/33600 [==============================] - 7s - loss: 0.0348 - acc: 0.9901     \n",
      "Epoch 151/200\n",
      "33600/33600 [==============================] - 7s - loss: 0.0351 - acc: 0.9895     \n",
      "Epoch 152/200\n",
      "33600/33600 [==============================] - 7s - loss: 0.0338 - acc: 0.9903     \n",
      "Epoch 153/200\n",
      "33600/33600 [==============================] - 7s - loss: 0.0355 - acc: 0.9893     \n",
      "Epoch 154/200\n",
      "33600/33600 [==============================] - 7s - loss: 0.0353 - acc: 0.9896     \n",
      "Epoch 155/200\n",
      "33600/33600 [==============================] - 7s - loss: 0.0327 - acc: 0.9902     \n",
      "Epoch 156/200\n",
      "33600/33600 [==============================] - 7s - loss: 0.0331 - acc: 0.9898     \n",
      "Epoch 157/200\n",
      "33600/33600 [==============================] - 7s - loss: 0.0316 - acc: 0.9905     \n",
      "Epoch 158/200\n",
      "33600/33600 [==============================] - 7s - loss: 0.0333 - acc: 0.9903     \n",
      "Epoch 159/200\n",
      "33600/33600 [==============================] - 7s - loss: 0.0332 - acc: 0.9901     \n",
      "Epoch 160/200\n",
      "33600/33600 [==============================] - 7s - loss: 0.0319 - acc: 0.9910     \n",
      "Epoch 161/200\n",
      "33600/33600 [==============================] - 7s - loss: 0.0336 - acc: 0.9893     \n",
      "Epoch 162/200\n",
      "33600/33600 [==============================] - 7s - loss: 0.0339 - acc: 0.9903     \n",
      "Epoch 163/200\n",
      "33600/33600 [==============================] - 7s - loss: 0.0301 - acc: 0.9909     \n",
      "Epoch 164/200\n",
      "33600/33600 [==============================] - 7s - loss: 0.0307 - acc: 0.9905     \n",
      "Epoch 165/200\n",
      "33600/33600 [==============================] - 7s - loss: 0.0303 - acc: 0.9909     \n",
      "Epoch 166/200\n",
      "33600/33600 [==============================] - 7s - loss: 0.0310 - acc: 0.9904     \n",
      "Epoch 167/200\n",
      "33600/33600 [==============================] - 7s - loss: 0.0318 - acc: 0.9906     \n",
      "Epoch 168/200\n",
      "33600/33600 [==============================] - 7s - loss: 0.0311 - acc: 0.9909     \n",
      "Epoch 169/200\n",
      "33600/33600 [==============================] - 7s - loss: 0.0293 - acc: 0.9910     \n",
      "Epoch 170/200\n",
      "33600/33600 [==============================] - 7s - loss: 0.0296 - acc: 0.9912     \n",
      "Epoch 171/200\n",
      "33600/33600 [==============================] - 7s - loss: 0.0301 - acc: 0.9910     \n",
      "Epoch 172/200\n",
      "33600/33600 [==============================] - 7s - loss: 0.0298 - acc: 0.9917     \n",
      "Epoch 173/200\n",
      "33600/33600 [==============================] - 7s - loss: 0.0284 - acc: 0.9918     \n",
      "Epoch 174/200\n",
      "33600/33600 [==============================] - 7s - loss: 0.0281 - acc: 0.9915     \n",
      "Epoch 175/200\n",
      "33600/33600 [==============================] - 7s - loss: 0.0316 - acc: 0.9911     \n",
      "Epoch 176/200\n",
      "33600/33600 [==============================] - 7s - loss: 0.0281 - acc: 0.9913     \n",
      "Epoch 177/200\n",
      "33600/33600 [==============================] - 7s - loss: 0.0272 - acc: 0.9920     \n",
      "Epoch 178/200\n",
      "33600/33600 [==============================] - 7s - loss: 0.0268 - acc: 0.9920     \n",
      "Epoch 179/200\n",
      "33600/33600 [==============================] - 7s - loss: 0.0297 - acc: 0.9906     \n",
      "Epoch 180/200\n",
      "33600/33600 [==============================] - 7s - loss: 0.0304 - acc: 0.9910     \n",
      "Epoch 181/200\n",
      "33600/33600 [==============================] - 7s - loss: 0.0300 - acc: 0.9909     \n",
      "Epoch 182/200\n",
      "33600/33600 [==============================] - 7s - loss: 0.0297 - acc: 0.9913     \n",
      "Epoch 183/200\n",
      "33600/33600 [==============================] - 7s - loss: 0.0282 - acc: 0.9914     \n",
      "Epoch 184/200\n",
      "33600/33600 [==============================] - 7s - loss: 0.0273 - acc: 0.9916     \n",
      "Epoch 185/200\n",
      "33600/33600 [==============================] - 7s - loss: 0.0278 - acc: 0.9909     \n",
      "Epoch 186/200\n",
      "33600/33600 [==============================] - 7s - loss: 0.0256 - acc: 0.9924     \n",
      "Epoch 187/200\n",
      "33600/33600 [==============================] - 7s - loss: 0.0265 - acc: 0.9918     \n",
      "Epoch 188/200\n",
      "33600/33600 [==============================] - 7s - loss: 0.0263 - acc: 0.9921     \n",
      "Epoch 189/200\n",
      "33600/33600 [==============================] - 7s - loss: 0.0272 - acc: 0.9918     \n",
      "Epoch 190/200\n",
      "33600/33600 [==============================] - 7s - loss: 0.0256 - acc: 0.9920     \n",
      "Epoch 191/200\n",
      "33600/33600 [==============================] - 7s - loss: 0.0261 - acc: 0.9923     \n",
      "Epoch 192/200\n",
      "33600/33600 [==============================] - 7s - loss: 0.0245 - acc: 0.9926     \n",
      "Epoch 193/200\n",
      "33600/33600 [==============================] - 7s - loss: 0.0263 - acc: 0.9922     \n",
      "Epoch 194/200\n",
      "33600/33600 [==============================] - 7s - loss: 0.0253 - acc: 0.9922     \n",
      "Epoch 195/200\n",
      "33600/33600 [==============================] - 7s - loss: 0.0269 - acc: 0.9915     \n",
      "Epoch 196/200\n",
      "33600/33600 [==============================] - 7s - loss: 0.0311 - acc: 0.9912     \n",
      "Epoch 197/200\n",
      "33600/33600 [==============================] - 7s - loss: 0.0278 - acc: 0.9918     \n",
      "Epoch 198/200\n",
      "33600/33600 [==============================] - 7s - loss: 0.0250 - acc: 0.9920     \n",
      "Epoch 199/200\n",
      "33600/33600 [==============================] - 7s - loss: 0.0275 - acc: 0.9921     \n",
      "Epoch 200/200\n",
      "33600/33600 [==============================] - 7s - loss: 0.0249 - acc: 0.9928     \n",
      "8352/8400 [============================>.] - ETA: 0s"
     ]
    },
    {
     "data": {
      "text/plain": [
       "[0.064162280909397393, 0.98785714285714288]"
      ]
     },
     "execution_count": 37,
     "metadata": {},
     "output_type": "execute_result"
    }
   ],
   "source": [
    "nn_model = create_convoluted_keras_model()\n",
    "nn_model.fit(feat_train, label_train, nb_epoch=200, batch_size=512)\n",
    "nn_model.evaluate(feat_test, label_test)"
   ]
  },
  {
   "cell_type": "code",
   "execution_count": 43,
   "metadata": {
    "collapsed": false
   },
   "outputs": [
    {
     "name": "stdout",
     "output_type": "stream",
     "text": [
      "Object `nn_model.save` not found.\n"
     ]
    }
   ],
   "source": [
    "?nn_model.save #save('nn.keras')"
   ]
  },
  {
   "cell_type": "code",
   "execution_count": null,
   "metadata": {
    "collapsed": true
   },
   "outputs": [],
   "source": [
    "nn_model.pred"
   ]
  }
 ],
 "metadata": {
  "anaconda-cloud": {},
  "kernelspec": {
   "display_name": "Python [Root]",
   "language": "python",
   "name": "Python [Root]"
  },
  "language_info": {
   "codemirror_mode": {
    "name": "ipython",
    "version": 3
   },
   "file_extension": ".py",
   "mimetype": "text/x-python",
   "name": "python",
   "nbconvert_exporter": "python",
   "pygments_lexer": "ipython3",
   "version": "3.5.2"
  }
 },
 "nbformat": 4,
 "nbformat_minor": 0
}
