{
 "cells": [
  {
   "cell_type": "code",
   "execution_count": 1,
   "metadata": {
    "collapsed": false
   },
   "outputs": [
    {
     "name": "stderr",
     "output_type": "stream",
     "text": [
      "Using Theano backend.\n",
      "Using gpu device 0: GeForce GTX 1070 (CNMeM is disabled, cuDNN not available)\n"
     ]
    }
   ],
   "source": [
    "import numpy as np\n",
    "import pandas\n",
    "import sklearn\n",
    "from sklearn.grid_search import GridSearchCV\n",
    "from keras.models import Sequential\n",
    "from keras.layers import Dense, Activation, Dropout, Reshape, Flatten, Convolution2D, Convolution1D, AveragePooling2D, MaxPooling2D\n",
    "from keras.utils import np_utils\n",
    "from keras.wrappers.scikit_learn import KerasClassifier"
   ]
  },
  {
   "cell_type": "code",
   "execution_count": 2,
   "metadata": {
    "collapsed": true
   },
   "outputs": [],
   "source": [
    "data = pandas.read_csv('train.csv')"
   ]
  },
  {
   "cell_type": "code",
   "execution_count": 3,
   "metadata": {
    "collapsed": true
   },
   "outputs": [],
   "source": [
    "labels = data['label'].values\n",
    "labels = np_utils.to_categorical(labels)"
   ]
  },
  {
   "cell_type": "code",
   "execution_count": 4,
   "metadata": {
    "collapsed": true
   },
   "outputs": [],
   "source": [
    "features = data.iloc[:,1:].values"
   ]
  },
  {
   "cell_type": "code",
   "execution_count": 5,
   "metadata": {
    "collapsed": false
   },
   "outputs": [
    {
     "data": {
      "text/plain": [
       "((42000, 784), (42000, 10))"
      ]
     },
     "execution_count": 5,
     "metadata": {},
     "output_type": "execute_result"
    }
   ],
   "source": [
    "features.shape, labels.shape"
   ]
  },
  {
   "cell_type": "code",
   "execution_count": 22,
   "metadata": {
    "collapsed": false
   },
   "outputs": [],
   "source": [
    "def create_flat_keras_model():\n",
    "    model = Sequential()\n",
    "    model.add(Dense(784, input_dim=784))\n",
    "    model.add(Activation('relu'))\n",
    "    model.add(Dropout(0.2))\n",
    "    model.add(Dense(10))\n",
    "    model.add(Activation('softmax'))\n",
    "    model.compile(loss='categorical_crossentropy', optimizer='adam', metrics=[\"accuracy\"])\n",
    "    return model"
   ]
  },
  {
   "cell_type": "code",
   "execution_count": 38,
   "metadata": {
    "collapsed": false
   },
   "outputs": [],
   "source": [
    "label_train, label_test, feat_train, feat_test = sklearn.cross_validation.train_test_split(labels, features, test_size=0.2, random_state=42)"
   ]
  },
  {
   "cell_type": "code",
   "execution_count": 8,
   "metadata": {
    "collapsed": false
   },
   "outputs": [
    {
     "data": {
      "text/plain": [
       "((33600, 784), (33600, 10))"
      ]
     },
     "execution_count": 8,
     "metadata": {},
     "output_type": "execute_result"
    }
   ],
   "source": [
    "feat_train.shape, label_train.shape"
   ]
  },
  {
   "cell_type": "code",
   "execution_count": 23,
   "metadata": {
    "collapsed": false
   },
   "outputs": [
    {
     "name": "stdout",
     "output_type": "stream",
     "text": [
      "Epoch 1/10\n",
      "33600/33600 [==============================] - 0s - loss: 10.7303 - acc: 0.3331     \n",
      "Epoch 2/10\n",
      "33600/33600 [==============================] - 0s - loss: 9.9765 - acc: 0.3805     \n",
      "Epoch 3/10\n",
      "33600/33600 [==============================] - 0s - loss: 9.9434 - acc: 0.3826     \n",
      "Epoch 4/10\n",
      "33600/33600 [==============================] - 0s - loss: 9.0556 - acc: 0.4377     \n",
      "Epoch 5/10\n",
      "33600/33600 [==============================] - 0s - loss: 9.0451 - acc: 0.4385     \n",
      "Epoch 6/10\n",
      "33600/33600 [==============================] - 0s - loss: 8.8812 - acc: 0.4487     \n",
      "Epoch 7/10\n",
      "33600/33600 [==============================] - 0s - loss: 8.8734 - acc: 0.4492     \n",
      "Epoch 8/10\n",
      "33600/33600 [==============================] - 0s - loss: 8.9348 - acc: 0.4454     \n",
      "Epoch 9/10\n",
      "33600/33600 [==============================] - 0s - loss: 8.6955 - acc: 0.4603     \n",
      "Epoch 10/10\n",
      "33600/33600 [==============================] - 0s - loss: 8.7827 - acc: 0.4550     \n",
      "8192/8400 [============================>.] - ETA: 0s"
     ]
    },
    {
     "data": {
      "text/plain": [
       "[9.2755375925699877, 0.4244047619047619]"
      ]
     },
     "execution_count": 23,
     "metadata": {},
     "output_type": "execute_result"
    }
   ],
   "source": [
    "nn_model = create_flat_keras_model()\n",
    "nn_model.fit(feat_train, label_train, nb_epoch=10, batch_size=128)\n",
    "nn_model.evaluate(feat_test, label_test)"
   ]
  },
  {
   "cell_type": "code",
   "execution_count": 81,
   "metadata": {
    "collapsed": true
   },
   "outputs": [],
   "source": [
    "def create_shallow_keras_model():\n",
    "    model = Sequential()\n",
    "    model.add(Dense(512, input_dim=784))\n",
    "    model.add(Activation('relu'))\n",
    "    model.add(Dropout(0.1))\n",
    "    model.add(Dense(512))\n",
    "    model.add(Activation('relu'))\n",
    "    model.add(Dropout(0.5))\n",
    "    model.add(Dense(10))\n",
    "    model.add(Activation('softmax'))\n",
    "    model.compile(loss='categorical_crossentropy', optimizer='adam', metrics=[\"accuracy\"])\n",
    "    return model"
   ]
  },
  {
   "cell_type": "code",
   "execution_count": 82,
   "metadata": {
    "collapsed": false
   },
   "outputs": [
    {
     "name": "stdout",
     "output_type": "stream",
     "text": [
      "Epoch 1/10\n",
      "33600/33600 [==============================] - 0s - loss: 8.5740 - acc: 0.4651     \n",
      "Epoch 2/10\n",
      "33600/33600 [==============================] - 0s - loss: 7.5500 - acc: 0.5305     \n",
      "Epoch 3/10\n",
      "33600/33600 [==============================] - 0s - loss: 7.4472 - acc: 0.5373     \n",
      "Epoch 4/10\n",
      "33600/33600 [==============================] - 0s - loss: 7.7319 - acc: 0.5197     \n",
      "Epoch 5/10\n",
      "33600/33600 [==============================] - 0s - loss: 7.4822 - acc: 0.5353     \n",
      "Epoch 6/10\n",
      "33600/33600 [==============================] - 0s - loss: 7.4876 - acc: 0.5352     \n",
      "Epoch 7/10\n",
      "33600/33600 [==============================] - 0s - loss: 7.3778 - acc: 0.5419     \n",
      "Epoch 8/10\n",
      "33600/33600 [==============================] - 0s - loss: 7.1132 - acc: 0.5585     \n",
      "Epoch 9/10\n",
      "33600/33600 [==============================] - 0s - loss: 7.2974 - acc: 0.5471     \n",
      "Epoch 10/10\n",
      "33600/33600 [==============================] - 0s - loss: 7.7385 - acc: 0.5197     \n",
      "8224/8400 [============================>.] - ETA: 0s"
     ]
    },
    {
     "data": {
      "text/plain": [
       "[7.403559429532006, 0.54035714285714287]"
      ]
     },
     "execution_count": 82,
     "metadata": {},
     "output_type": "execute_result"
    }
   ],
   "source": [
    "nn_model = create_shallow_keras_model()\n",
    "nn_model.fit(feat_train, label_train, nb_epoch=10, batch_size=128)\n",
    "nn_model.evaluate(feat_test, label_test)"
   ]
  },
  {
   "cell_type": "code",
   "execution_count": 145,
   "metadata": {
    "collapsed": true
   },
   "outputs": [],
   "source": [
    "def create_deep_keras_model():\n",
    "    model = Sequential()\n",
    "    model.add(Dense(784, input_dim=784))\n",
    "    model.add(Activation('relu'))\n",
    "    model.add(Dropout(0.2))\n",
    "    model.add(Reshape((1, 28, 28)))\n",
    "    model.add(Convolution2D(28, 3, 3, border_mode='same'))\n",
    "    model.add(Dropout(0.2))\n",
    "    #model.add(AveragePooling2D(pool_size=(2, 2), strides=None, border_mode='valid', dim_ordering='th'))\n",
    "    model.add(Flatten())\n",
    "    model.add(Dense(512))\n",
    "    model.add(Activation('relu'))\n",
    "    model.add(Dropout(0.5))\n",
    "    model.add(Dense(10))\n",
    "    model.add(Activation('softmax'))\n",
    "    model.compile(loss='categorical_crossentropy', optimizer='adam', metrics=['accuracy'])\n",
    "    return model"
   ]
  },
  {
   "cell_type": "code",
   "execution_count": 147,
   "metadata": {
    "collapsed": false
   },
   "outputs": [
    {
     "name": "stdout",
     "output_type": "stream",
     "text": [
      "Epoch 1/10\n",
      "33600/33600 [==============================] - 3s - loss: 9.2932 - acc: 0.4214     \n",
      "Epoch 2/10\n",
      "33600/33600 [==============================] - 3s - loss: 8.4930 - acc: 0.4725     \n",
      "Epoch 3/10\n",
      "33600/33600 [==============================] - 2s - loss: 9.3897 - acc: 0.4173     \n",
      "Epoch 4/10\n",
      "33600/33600 [==============================] - 3s - loss: 9.1085 - acc: 0.4347     \n",
      "Epoch 5/10\n",
      "33600/33600 [==============================] - 3s - loss: 8.9938 - acc: 0.4418     \n",
      "Epoch 6/10\n",
      "33600/33600 [==============================] - 3s - loss: 9.6287 - acc: 0.4025     \n",
      "Epoch 7/10\n",
      "33600/33600 [==============================] - 3s - loss: 9.7074 - acc: 0.3976     \n",
      "Epoch 8/10\n",
      "33600/33600 [==============================] - 3s - loss: 9.9315 - acc: 0.3837     \n",
      "Epoch 9/10\n",
      "33600/33600 [==============================] - 3s - loss: 8.9113 - acc: 0.4471     \n",
      "Epoch 10/10\n",
      "33600/33600 [==============================] - 3s - loss: 8.9315 - acc: 0.4458     \n",
      "8352/8400 [============================>.] - ETA: 0s"
     ]
    },
    {
     "data": {
      "text/plain": [
       "[9.0478636242094499, 0.43857142857142856]"
      ]
     },
     "execution_count": 147,
     "metadata": {},
     "output_type": "execute_result"
    }
   ],
   "source": [
    "nn_model = create_deep_keras_model()\n",
    "nn_model.fit(feat_train, label_train, nb_epoch=10, batch_size=512)\n",
    "nn_model.evaluate(feat_test, label_test)"
   ]
  },
  {
   "cell_type": "code",
   "execution_count": null,
   "metadata": {
    "collapsed": true
   },
   "outputs": [],
   "source": []
  }
 ],
 "metadata": {
  "anaconda-cloud": {},
  "kernelspec": {
   "display_name": "Python [Root]",
   "language": "python",
   "name": "Python [Root]"
  },
  "language_info": {
   "codemirror_mode": {
    "name": "ipython",
    "version": 3
   },
   "file_extension": ".py",
   "mimetype": "text/x-python",
   "name": "python",
   "nbconvert_exporter": "python",
   "pygments_lexer": "ipython3",
   "version": "3.5.2"
  }
 },
 "nbformat": 4,
 "nbformat_minor": 0
}
